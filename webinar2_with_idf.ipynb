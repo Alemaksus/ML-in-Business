{
 "cells": [
  {
   "cell_type": "markdown",
   "metadata": {},
   "source": [
    "### Урок 2. #Профилирование пользователей. Сегментация аудитории: unsupervised learning (clustering, LDA/ARTM), supervised (multi/binary classification)#"
   ]
  },
  {
   "cell_type": "markdown",
   "metadata": {},
   "source": [
    "План занятия:\n",
    "\n",
    "1. задача сегментации аудитории по интересам - для чего\n",
    "2. тематическое моделирование - получаем эмбединги текстов\n",
    "3. решаем downstream-задачу (профилирование аудитории новостного портала)"
   ]
  },
  {
   "cell_type": "markdown",
   "metadata": {},
   "source": [
    "Рассматривать мы все будем в контексте решения конкретной прикладной задачи - задачи оттока"
   ]
  },
  {
   "cell_type": "markdown",
   "metadata": {},
   "source": [
    "#### Задача сегментации (неформальное определение)"
   ]
  },
  {
   "cell_type": "markdown",
   "metadata": {},
   "source": [
    "Разбиваем пользователей на группы, чем-то отличающиеся друг от друга"
   ]
  },
  {
   "cell_type": "markdown",
   "metadata": {},
   "source": [
    "Если же более формально, то:\n",
    "\n",
    "Сегментация клиентской базы — это способ повышения эффективности работы с пользователями путем их распределения по отдельным группам, или сегментам, в соответствии с их запросами и/или потребностями."
   ]
  },
  {
   "cell_type": "markdown",
   "metadata": {},
   "source": [
    "Сегментация может быть очень разной:"
   ]
  },
  {
   "cell_type": "markdown",
   "metadata": {},
   "source": [
    "#### 1. когда совершил первую покупку (сколько прошло с момента регистрации до момента покупки)"
   ]
  },
  {
   "cell_type": "markdown",
   "metadata": {},
   "source": [
    "![ab_split](payments1.png \"Payments2\")"
   ]
  },
  {
   "cell_type": "markdown",
   "metadata": {},
   "source": [
    "#### 2. по психотипам"
   ]
  },
  {
   "cell_type": "markdown",
   "metadata": {},
   "source": [
    "![ab_split](psycho.png \"Psycho\")"
   ]
  },
  {
   "cell_type": "markdown",
   "metadata": {},
   "source": [
    "#### 3. по платежам"
   ]
  },
  {
   "cell_type": "markdown",
   "metadata": {},
   "source": [
    "![ab_split](payments.png \"Payments\")"
   ]
  },
  {
   "cell_type": "markdown",
   "metadata": {},
   "source": [
    "#### 4. По эффективности взаимодействия (uplift)"
   ]
  },
  {
   "cell_type": "markdown",
   "metadata": {},
   "source": [
    "![ab_split](uplift.png \"Uplift\")"
   ]
  },
  {
   "cell_type": "markdown",
   "metadata": {},
   "source": [
    "#### 5. по интересам"
   ]
  },
  {
   "cell_type": "markdown",
   "metadata": {},
   "source": [
    "![ab_split](interests.png \"Interests\")"
   ]
  },
  {
   "cell_type": "markdown",
   "metadata": {},
   "source": [
    "И еще 100500 вариантов сегментирования, которое может быть полезно. \n",
    "\n",
    "Для чего полезно?"
   ]
  },
  {
   "cell_type": "markdown",
   "metadata": {},
   "source": [
    "1. понимание аудитории, способность описать основные группы пользователей и их интересы\n",
    "2. выявление сегментов с максимальной монетизацией\n",
    "3. выбор маркетинговой стратегии\n",
    "4. налаживание эффективного взаимодействия с пользователями"
   ]
  },
  {
   "cell_type": "markdown",
   "metadata": {},
   "source": [
    "#### Пример из жизни (новостной портал)"
   ]
  },
  {
   "cell_type": "markdown",
   "metadata": {},
   "source": [
    "Представим, что мы - компания-агрегатор новостей (новостной портал).\n",
    "\n",
    "У нас есть:\n",
    "\n",
    "1. читатели\n",
    "2. новости\n",
    "\n",
    "Для каждого пользователя мы можем за какой-то период (например, 1 день) достать из базы данных список прочитанных им новостей.\n",
    "\n",
    "Для каждой новости мы можем вытащить текст и метаинформацию.\n",
    "\n",
    "### Задача #1: нужно построить модель прогнозирования оттока - это наша downstream-задача. "
   ]
  },
  {
   "cell_type": "markdown",
   "metadata": {},
   "source": [
    "Нам нужны:\n",
    "\n",
    "1. векторное представление пользователя\n",
    "2. сегменты, описывающие интересы пользователя\n",
    "\n",
    "p.s. в контексте нашей задачи - это одно и то же"
   ]
  },
  {
   "cell_type": "markdown",
   "metadata": {},
   "source": [
    "### С чего начнем?"
   ]
  },
  {
   "cell_type": "markdown",
   "metadata": {},
   "source": [
    "С векторного представления и сегментов новостей!"
   ]
  },
  {
   "cell_type": "markdown",
   "metadata": {},
   "source": [
    "Есть два очевидных варианта как это сделать:\n",
    "\n",
    "1. многоклассовая классификация\n",
    "2. кластеризация документов с последующей попыткой их (кластера) интерпретировать"
   ]
  },
  {
   "cell_type": "markdown",
   "metadata": {},
   "source": [
    "Проблема:"
   ]
  },
  {
   "cell_type": "markdown",
   "metadata": {},
   "source": [
    "1. для классификации нам нужно сначала разметить новости - привлечение ручного труда"
   ]
  },
  {
   "cell_type": "markdown",
   "metadata": {},
   "source": [
    "### Задача тематического моделирования"
   ]
  },
  {
   "cell_type": "markdown",
   "metadata": {},
   "source": [
    "#### Неформально!"
   ]
  },
  {
   "cell_type": "markdown",
   "metadata": {},
   "source": [
    "- на свете бывают темы (заранее неизвестные), которые отражают то, о чём могут быть части документа;\n",
    "- каждая тема – это распределение вероятностей на словах, т.е. мешок слов, из которого можно с разной вероятностью вытащить разные слова;\n",
    "- каждый документ – это смесь тем, т.е. распределение вероятностей на темах, кубик, который можно кинуть;\n",
    "- процесс порождения каждого слова состоит в том, чтобы сначала выбрать тему по распределению, соответствующему документу, а затем выбрать слово из распределения, соответствующего этой теме."
   ]
  },
  {
   "cell_type": "markdown",
   "metadata": {},
   "source": [
    "Вероятностные модели удобно понимать и представлять в виде порождающих процессов (generative processes), когда мы последовательно описываем, как порождается одна единица данных, вводя по ходу дела все вероятностные предположения, которые мы в этой модели делаем. Соответственно, порождающий процесс для LDA должен последовательно описывать, как мы порождаем каждое слово каждого документа. И вот как это происходит (здесь и далее я буду предполагать, что длина каждого документа задана – её тоже можно добавить в модель, но обычно это ничего нового не даёт):"
   ]
  },
  {
   "cell_type": "markdown",
   "metadata": {},
   "source": [
    "1. для каждой темы t выбираем вектор phi_t - распределение слов в теме\n",
    "\n",
    "2. для каждого документа d:\n",
    "\n",
    "    2.1 выбираем Theta_d - распределение тем в документе\n",
    "    \n",
    "    2.2 для каждого из слов документа w:\n",
    "        2.2.1 выбираем тему z~Theta_d\n",
    "        2.2.2 выбираем слово w~p(w|z, phi)"
   ]
  },
  {
   "cell_type": "markdown",
   "metadata": {},
   "source": [
    "![lda](lda_simple.png \"LDA\")"
   ]
  },
  {
   "cell_type": "markdown",
   "metadata": {},
   "source": [
    "ист. https://habr.com/ru/company/surfingbird/blog/230103/"
   ]
  },
  {
   "cell_type": "markdown",
   "metadata": {},
   "source": [
    "#### Чуть более формально"
   ]
  },
  {
   "cell_type": "markdown",
   "metadata": {},
   "source": [
    "Терминология:\n",
    "\n",
    "1. документ - коллекция слов \n",
    "2. тема - набор токенов (слов), совместно часто встречающихся в документах\n",
    "\n",
    "Более формально:\n",
    "\n",
    "1. тема - условное распределение на множестве терминов, p(w|t)\n",
    "2. тематический профиль документа - условное распределение тем p(t|d)\n",
    "\n",
    "Вопрос: что же нам дано (в терминах условной вероятности)?\n",
    "\n",
    "Ответ: условное распределение слов в документах - p(w|d)"
   ]
  },
  {
   "cell_type": "markdown",
   "metadata": {},
   "source": [
    "Прекрасное объяснение от Воронцова - http://www.machinelearning.ru/wiki/images/d/d5/Voron17survey-artm.pdf"
   ]
  },
  {
   "cell_type": "markdown",
   "metadata": {},
   "source": [
    "Тематическая модель позволяет нам получить p(w|t), p(t|d) по известным p(w|d)"
   ]
  },
  {
   "cell_type": "markdown",
   "metadata": {},
   "source": [
    "![ab_split](tm1.png \"TM1\")"
   ]
  },
  {
   "cell_type": "code",
   "execution_count": null,
   "metadata": {},
   "outputs": [],
   "source": []
  },
  {
   "cell_type": "code",
   "execution_count": null,
   "metadata": {},
   "outputs": [],
   "source": []
  },
  {
   "cell_type": "code",
   "execution_count": null,
   "metadata": {},
   "outputs": [],
   "source": []
  },
  {
   "cell_type": "code",
   "execution_count": null,
   "metadata": {},
   "outputs": [],
   "source": []
  },
  {
   "cell_type": "code",
   "execution_count": null,
   "metadata": {},
   "outputs": [],
   "source": []
  },
  {
   "cell_type": "markdown",
   "metadata": {},
   "source": [
    "### Переходим к практике"
   ]
  },
  {
   "cell_type": "code",
   "execution_count": 1,
   "metadata": {},
   "outputs": [],
   "source": [
    "import pandas as pd"
   ]
  },
  {
   "cell_type": "markdown",
   "metadata": {},
   "source": [
    "Наши новости"
   ]
  },
  {
   "cell_type": "code",
   "execution_count": 2,
   "metadata": {},
   "outputs": [
    {
     "name": "stdout",
     "output_type": "stream",
     "text": [
      "(27000, 2)\n"
     ]
    },
    {
     "data": {
      "text/html": [
       "<div>\n",
       "<style scoped>\n",
       "    .dataframe tbody tr th:only-of-type {\n",
       "        vertical-align: middle;\n",
       "    }\n",
       "\n",
       "    .dataframe tbody tr th {\n",
       "        vertical-align: top;\n",
       "    }\n",
       "\n",
       "    .dataframe thead th {\n",
       "        text-align: right;\n",
       "    }\n",
       "</style>\n",
       "<table border=\"1\" class=\"dataframe\">\n",
       "  <thead>\n",
       "    <tr style=\"text-align: right;\">\n",
       "      <th></th>\n",
       "      <th>doc_id</th>\n",
       "      <th>title</th>\n",
       "    </tr>\n",
       "  </thead>\n",
       "  <tbody>\n",
       "    <tr>\n",
       "      <th>0</th>\n",
       "      <td>6</td>\n",
       "      <td>Заместитель председателяnправительства РФnСерг...</td>\n",
       "    </tr>\n",
       "    <tr>\n",
       "      <th>1</th>\n",
       "      <td>4896</td>\n",
       "      <td>Матч 1/16 финала Кубка России по футболу был п...</td>\n",
       "    </tr>\n",
       "    <tr>\n",
       "      <th>2</th>\n",
       "      <td>4897</td>\n",
       "      <td>Форвард «Авангарда» Томаш Заборский прокоммент...</td>\n",
       "    </tr>\n",
       "  </tbody>\n",
       "</table>\n",
       "</div>"
      ],
      "text/plain": [
       "   doc_id                                              title\n",
       "0       6  Заместитель председателяnправительства РФnСерг...\n",
       "1    4896  Матч 1/16 финала Кубка России по футболу был п...\n",
       "2    4897  Форвард «Авангарда» Томаш Заборский прокоммент..."
      ]
     },
     "execution_count": 2,
     "metadata": {},
     "output_type": "execute_result"
    }
   ],
   "source": [
    "news = pd.read_csv(\"articles.csv\")\n",
    "print(news.shape)\n",
    "news.head(3)"
   ]
  },
  {
   "cell_type": "code",
   "execution_count": null,
   "metadata": {},
   "outputs": [],
   "source": []
  },
  {
   "cell_type": "markdown",
   "metadata": {},
   "source": [
    "Загрузим пользователей и списки последних прочитанных новостей"
   ]
  },
  {
   "cell_type": "code",
   "execution_count": 3,
   "metadata": {},
   "outputs": [
    {
     "data": {
      "text/html": [
       "<div>\n",
       "<style scoped>\n",
       "    .dataframe tbody tr th:only-of-type {\n",
       "        vertical-align: middle;\n",
       "    }\n",
       "\n",
       "    .dataframe tbody tr th {\n",
       "        vertical-align: top;\n",
       "    }\n",
       "\n",
       "    .dataframe thead th {\n",
       "        text-align: right;\n",
       "    }\n",
       "</style>\n",
       "<table border=\"1\" class=\"dataframe\">\n",
       "  <thead>\n",
       "    <tr style=\"text-align: right;\">\n",
       "      <th></th>\n",
       "      <th>uid</th>\n",
       "      <th>articles</th>\n",
       "    </tr>\n",
       "  </thead>\n",
       "  <tbody>\n",
       "    <tr>\n",
       "      <th>0</th>\n",
       "      <td>u105138</td>\n",
       "      <td>[293672, 293328, 293001, 293622, 293126, 1852]</td>\n",
       "    </tr>\n",
       "    <tr>\n",
       "      <th>1</th>\n",
       "      <td>u108690</td>\n",
       "      <td>[3405, 1739, 2972, 1158, 1599, 322665]</td>\n",
       "    </tr>\n",
       "    <tr>\n",
       "      <th>2</th>\n",
       "      <td>u108339</td>\n",
       "      <td>[1845, 2009, 2356, 1424, 2939, 323389]</td>\n",
       "    </tr>\n",
       "  </tbody>\n",
       "</table>\n",
       "</div>"
      ],
      "text/plain": [
       "       uid                                        articles\n",
       "0  u105138  [293672, 293328, 293001, 293622, 293126, 1852]\n",
       "1  u108690          [3405, 1739, 2972, 1158, 1599, 322665]\n",
       "2  u108339          [1845, 2009, 2356, 1424, 2939, 323389]"
      ]
     },
     "execution_count": 3,
     "metadata": {},
     "output_type": "execute_result"
    }
   ],
   "source": [
    "users = pd.read_csv(\"users_articles.csv\")\n",
    "users.head(3)"
   ]
  },
  {
   "cell_type": "markdown",
   "metadata": {},
   "source": [
    "Итак, нам нужно получить векторные представления пользователей на основе прочитанным ими новостей и самих новостей"
   ]
  },
  {
   "cell_type": "markdown",
   "metadata": {},
   "source": [
    "### 1. Получаем векторные представления новостей"
   ]
  },
  {
   "cell_type": "code",
   "execution_count": 4,
   "metadata": {},
   "outputs": [
    {
     "name": "stderr",
     "output_type": "stream",
     "text": [
      "/home/rzaharov@mvs.local/GB/venv_course/lib/python3.8/site-packages/gensim/similarities/__init__.py:15: UserWarning: The gensim.similarities.levenshtein submodule is disabled, because the optional Levenshtein package <https://pypi.org/project/python-Levenshtein/> is unavailable. Install Levenhstein (e.g. `pip install python-Levenshtein`) to suppress this warning.\n",
      "  warnings.warn(msg)\n"
     ]
    }
   ],
   "source": [
    "#from gensim.test.utils import common_texts\n",
    "from gensim.corpora.dictionary import Dictionary"
   ]
  },
  {
   "cell_type": "code",
   "execution_count": 5,
   "metadata": {},
   "outputs": [],
   "source": [
    "#предобработка текстов\n",
    "import re\n",
    "import numpy as np\n",
    "from nltk.corpus import stopwords\n",
    "#from nltk.tokenize import word_tokenize\n",
    "\n",
    "from razdel import tokenize # https://github.com/natasha/razdel\n",
    "#!pip install razdel\n",
    "\n",
    "import pymorphy2  # pip install pymorphy2"
   ]
  },
  {
   "cell_type": "code",
   "execution_count": 6,
   "metadata": {},
   "outputs": [],
   "source": [
    "stopword_ru = stopwords.words('russian')\n",
    "len(stopword_ru)\n",
    "\n",
    "morph = pymorphy2.MorphAnalyzer()"
   ]
  },
  {
   "cell_type": "code",
   "execution_count": 7,
   "metadata": {},
   "outputs": [
    {
     "data": {
      "text/plain": [
       "776"
      ]
     },
     "execution_count": 7,
     "metadata": {},
     "output_type": "execute_result"
    }
   ],
   "source": [
    "with open('stopwords.txt') as f:\n",
    "    additional_stopwords = [w.strip() for w in f.readlines() if w]\n",
    "stopword_ru += additional_stopwords\n",
    "len(stopword_ru)"
   ]
  },
  {
   "cell_type": "code",
   "execution_count": 8,
   "metadata": {},
   "outputs": [],
   "source": [
    "def clean_text(text):\n",
    "    '''\n",
    "    очистка текста\n",
    "    \n",
    "    на выходе очищеный текст\n",
    "    \n",
    "    '''\n",
    "    if not isinstance(text, str):\n",
    "        text = str(text)\n",
    "    \n",
    "    text = text.lower()\n",
    "    text = text.strip('\\n').strip('\\r').strip('\\t')\n",
    "    text = re.sub(\"-\\s\\r\\n\\|-\\s\\r\\n|\\r\\n\", '', str(text))\n",
    "\n",
    "    text = re.sub(\"[0-9]|[-—.,:;_%©«»?*!@#№$^•·&()]|[+=]|[[]|[]]|[/]|\", '', text)\n",
    "    text = re.sub(r\"\\r\\n\\t|\\n|\\\\s|\\r\\t|\\\\n\", ' ', text)\n",
    "    text = re.sub(r'[\\xad]|[\\s+]', ' ', text.strip())\n",
    "    \n",
    "    #tokens = list(tokenize(text))\n",
    "    #words = [_.text for _ in tokens]\n",
    "    #words = [w for w in words if w not in stopword_ru]\n",
    "    \n",
    "    #return \" \".join(words)\n",
    "    return text\n",
    "\n",
    "cache = {}\n",
    "\n",
    "def lemmatization(text):\n",
    "    '''\n",
    "    лемматизация\n",
    "        [0] если зашел тип не `str` делаем его `str`\n",
    "        [1] токенизация предложения через razdel\n",
    "        [2] проверка есть ли в начале слова '-'\n",
    "        [3] проверка токена с одного символа\n",
    "        [4] проверка есть ли данное слово в кэше\n",
    "        [5] лемматизация слова\n",
    "        [6] проверка на стоп-слова\n",
    "\n",
    "    на выходе лист отлемматизированых токенов\n",
    "    '''\n",
    "\n",
    "    # [0]\n",
    "    if not isinstance(text, str):\n",
    "        text = str(text)\n",
    "    \n",
    "    # [1]\n",
    "    tokens = list(tokenize(text))\n",
    "    words = [_.text for _ in tokens]\n",
    "\n",
    "    words_lem = []\n",
    "    for w in words:\n",
    "        if w[0] == '-': # [2]\n",
    "            w = w[1:]\n",
    "        if len(w)>1: # [3]\n",
    "            if w in cache: # [4]\n",
    "                words_lem.append(cache[w])\n",
    "            else: # [5]\n",
    "                temp_cach = cache[w] = morph.parse(w)[0].normal_form\n",
    "                words_lem.append(temp_cach)\n",
    "    \n",
    "    words_lem_without_stopwords=[i for i in words_lem if not i in stopword_ru] # [6]\n",
    "    \n",
    "    return words_lem_without_stopwords"
   ]
  },
  {
   "cell_type": "code",
   "execution_count": 9,
   "metadata": {
    "scrolled": true
   },
   "outputs": [
    {
     "name": "stderr",
     "output_type": "stream",
     "text": [
      "<ipython-input-8-7ee348d9b386>:15: FutureWarning: Possible nested set at position 39\n",
      "  text = re.sub(\"[0-9]|[-—.,:;_%©«»?*!@#№$^•·&()]|[+=]|[[]|[]]|[/]|\", '', text)\n"
     ]
    },
    {
     "name": "stdout",
     "output_type": "stream",
     "text": [
      "CPU times: user 35.1 s, sys: 1.86 s, total: 37 s\n",
      "Wall time: 37 s\n"
     ]
    }
   ],
   "source": [
    "%%time\n",
    "#Запускаем очистку текста. Будет долго...\n",
    "news['title'] = news['title'].apply(lambda x: clean_text(x), 1)"
   ]
  },
  {
   "cell_type": "code",
   "execution_count": 10,
   "metadata": {},
   "outputs": [
    {
     "name": "stdout",
     "output_type": "stream",
     "text": [
      "CPU times: user 4min 11s, sys: 240 ms, total: 4min 11s\n",
      "Wall time: 4min 11s\n"
     ]
    }
   ],
   "source": [
    "%%time\n",
    "#Запускаем лемматизацию текста. Будет очень долго...\n",
    "news['title'] = news['title'].apply(lambda x: lemmatization(x), 1)"
   ]
  },
  {
   "cell_type": "markdown",
   "metadata": {},
   "source": [
    "А теперь в 3 строчки обучим нашу модель"
   ]
  },
  {
   "cell_type": "code",
   "execution_count": 11,
   "metadata": {},
   "outputs": [],
   "source": [
    "#сформируем список наших текстов, разбив еще и на пробелы\n",
    "texts = [t for t in news['title'].values]\n",
    "\n",
    "# Create a corpus from a list of texts\n",
    "common_dictionary = Dictionary(texts)\n",
    "common_corpus = [common_dictionary.doc2bow(text) for text in texts]"
   ]
  },
  {
   "cell_type": "markdown",
   "metadata": {},
   "source": [
    "Что такое common_dictionary и как он выглядит"
   ]
  },
  {
   "cell_type": "markdown",
   "metadata": {},
   "source": [
    "Все просто - это словарь наших слов"
   ]
  },
  {
   "cell_type": "markdown",
   "metadata": {},
   "source": [
    "Запускаем обучение"
   ]
  },
  {
   "cell_type": "code",
   "execution_count": 12,
   "metadata": {},
   "outputs": [],
   "source": [
    "from gensim.models import LdaModel"
   ]
  },
  {
   "cell_type": "code",
   "execution_count": 2,
   "metadata": {},
   "outputs": [],
   "source": [
    "LdaModel?"
   ]
  },
  {
   "cell_type": "code",
   "execution_count": 13,
   "metadata": {},
   "outputs": [
    {
     "name": "stdout",
     "output_type": "stream",
     "text": [
      "CPU times: user 4min 5s, sys: 2min 43s, total: 6min 49s\n",
      "Wall time: 47.3 s\n"
     ]
    }
   ],
   "source": [
    "%%time\n",
    "from gensim.models import LdaModel\n",
    "# Train the model on the corpus.\n",
    "lda = LdaModel(common_corpus, num_topics=25, id2word=common_dictionary)#, passes=10)"
   ]
  },
  {
   "cell_type": "code",
   "execution_count": 14,
   "metadata": {},
   "outputs": [],
   "source": [
    "from gensim.test.utils import datapath\n",
    "# Save model to disk.\n",
    "temp_file = datapath(\"model.lda\")\n",
    "lda.save(temp_file)\n",
    "\n",
    "# Load a potentially pretrained model from disk.\n",
    "lda = LdaModel.load(temp_file)"
   ]
  },
  {
   "cell_type": "markdown",
   "metadata": {},
   "source": [
    "Обучили модель. Теперь 2 вопроса:\n",
    "\n",
    "1. как выглядят наши темы\n",
    "2. как получить для документа вектор значений (вероятности принадлежности каждой теме)"
   ]
  },
  {
   "cell_type": "code",
   "execution_count": 15,
   "metadata": {},
   "outputs": [
    {
     "name": "stdout",
     "output_type": "stream",
     "text": [
      "['форвард', 'авангард', 'томаш', 'заборский', 'прокомментировать', 'игра', 'команда', 'матч', 'чемпионат', 'кхл', 'против', 'атланта', 'nnnn', 'плохой', 'матч', 'нижний', 'новгород', 'против', 'торпедо', 'настраиваться', 'первый', 'минута', 'включиться', 'заборский', 'получиться', 'забросить', 'быстрый', 'гол', 'задать', 'хороший', 'темп', 'поединок', 'играть', 'хороший', 'сторона', 'пять', 'очко', 'выезд', 'девять', 'хороший']\n"
     ]
    },
    {
     "data": {
      "text/plain": [
       "[(0, 0.2471395),\n",
       " (3, 0.22199807),\n",
       " (4, 0.3407412),\n",
       " (7, 0.110706925),\n",
       " (20, 0.05827039)]"
      ]
     },
     "execution_count": 15,
     "metadata": {},
     "output_type": "execute_result"
    }
   ],
   "source": [
    "# Create a new corpus, made of previously unseen documents.\n",
    "other_texts = [t for t in news['title'].iloc[:3]]\n",
    "other_corpus = [common_dictionary.doc2bow(text) for text in other_texts]\n",
    "\n",
    "unseen_doc = other_corpus[2]\n",
    "print(other_texts[2])\n",
    "lda[unseen_doc] "
   ]
  },
  {
   "cell_type": "code",
   "execution_count": 16,
   "metadata": {},
   "outputs": [
    {
     "name": "stdout",
     "output_type": "stream",
     "text": [
      "topic_0: военный новый рейс боевой конкурс оборона памятник\n",
      "topic_1: фонд доллар бизнесмен рекомендовать сон прогнозировать оперативно\n",
      "topic_2: украина запуск взрыв китай киев космос восток\n",
      "topic_3: всё хороший очень первый большой жизнь двигатель\n",
      "topic_4: ракета инвестиция энергия вскоре физика фильм миссия\n",
      "topic_5: статья писать тыс данные научный управление население\n",
      "topic_6: nn египет авария маршрут сайт собственность транспорт\n",
      "topic_7: экономика проверка всё бизнес способность обращение выяснить\n",
      "topic_8: снижение тело автор ставка участок активность торговый\n",
      "topic_9: исследование nn женщина обнаружить агентство эксперимент мужчина\n",
      "topic_10: земля научный температура белый страдать ru газета\n",
      "topic_11: мозг городской рейтинг опрос гора парк сосед\n",
      "topic_12: рынок государство пенсия власть продукция специальный форум\n",
      "topic_13: млрд рубль рост млн объём составить доход\n",
      "topic_14: газ турция nn система турецкий россия государство\n",
      "topic_15: рак операция риск высота девочка ведение таиланд\n",
      "topic_16: гражданин район день россия граница российский дональд\n",
      "topic_17: станция путин москва фестиваль мероприятие nn россия\n",
      "topic_18: объект убийство завод строительство следователь территория флот\n",
      "topic_19: сша россия эксперт nn российский проект американский\n",
      "topic_20: цена смерть тыс млн дом возраст болезнь\n",
      "topic_21: банк власть рф россия область правительство российский\n",
      "topic_22: поверхность виза польша популярный мышь рекорд южный\n",
      "topic_23: журнал погибнуть произойти выяснить ракета британский кровь\n",
      "topic_24: ребёнок университет пациент врач лечение исследование школа\n"
     ]
    }
   ],
   "source": [
    "x=lda.show_topics(num_topics=25, num_words=7,formatted=False)\n",
    "topics_words = [(tp[0], [wd[0] for wd in tp[1]]) for tp in x]\n",
    "\n",
    "#Below Code Prints Only Words \n",
    "for topic,words in topics_words:\n",
    "    print(\"topic_{}: \".format(topic)+\" \".join(words))"
   ]
  },
  {
   "cell_type": "markdown",
   "metadata": {},
   "source": [
    "Очень неплохо - большинство тем вполне можно описать о чем они"
   ]
  },
  {
   "cell_type": "markdown",
   "metadata": {},
   "source": [
    "Давайте напишем функцию, которая будет нам возвращать векторное представление новости"
   ]
  },
  {
   "cell_type": "code",
   "execution_count": 17,
   "metadata": {},
   "outputs": [],
   "source": [
    "#text = news['title'].iloc[0]\n",
    "\n",
    "def get_lda_vector(text):\n",
    "    unseen_doc = common_dictionary.doc2bow(text)\n",
    "    lda_tuple = lda[unseen_doc]\n",
    "    not_null_topics = dict(zip([i[0] for i in lda_tuple], [i[1] for i in lda_tuple]))\n",
    "\n",
    "    output_vector = []\n",
    "    for i in range(25):\n",
    "        if i not in not_null_topics:\n",
    "            output_vector.append(0)\n",
    "        else:\n",
    "            output_vector.append(not_null_topics[i])\n",
    "    return np.array(output_vector)"
   ]
  },
  {
   "cell_type": "code",
   "execution_count": 18,
   "metadata": {},
   "outputs": [
    {
     "data": {
      "text/html": [
       "<div>\n",
       "<style scoped>\n",
       "    .dataframe tbody tr th:only-of-type {\n",
       "        vertical-align: middle;\n",
       "    }\n",
       "\n",
       "    .dataframe tbody tr th {\n",
       "        vertical-align: top;\n",
       "    }\n",
       "\n",
       "    .dataframe thead th {\n",
       "        text-align: right;\n",
       "    }\n",
       "</style>\n",
       "<table border=\"1\" class=\"dataframe\">\n",
       "  <thead>\n",
       "    <tr style=\"text-align: right;\">\n",
       "      <th></th>\n",
       "      <th>doc_id</th>\n",
       "      <th>topic_0</th>\n",
       "      <th>topic_1</th>\n",
       "      <th>topic_2</th>\n",
       "      <th>topic_3</th>\n",
       "      <th>topic_4</th>\n",
       "      <th>topic_5</th>\n",
       "      <th>topic_6</th>\n",
       "      <th>topic_7</th>\n",
       "      <th>topic_8</th>\n",
       "      <th>...</th>\n",
       "      <th>topic_15</th>\n",
       "      <th>topic_16</th>\n",
       "      <th>topic_17</th>\n",
       "      <th>topic_18</th>\n",
       "      <th>topic_19</th>\n",
       "      <th>topic_20</th>\n",
       "      <th>topic_21</th>\n",
       "      <th>topic_22</th>\n",
       "      <th>topic_23</th>\n",
       "      <th>topic_24</th>\n",
       "    </tr>\n",
       "  </thead>\n",
       "  <tbody>\n",
       "    <tr>\n",
       "      <th>0</th>\n",
       "      <td>6</td>\n",
       "      <td>0.000000</td>\n",
       "      <td>0.000000</td>\n",
       "      <td>0.000000</td>\n",
       "      <td>0.000000</td>\n",
       "      <td>0.039282</td>\n",
       "      <td>0.000000</td>\n",
       "      <td>0.108547</td>\n",
       "      <td>0.000000</td>\n",
       "      <td>0.0</td>\n",
       "      <td>...</td>\n",
       "      <td>0.000000</td>\n",
       "      <td>0.0</td>\n",
       "      <td>0.0</td>\n",
       "      <td>0.0</td>\n",
       "      <td>0.0</td>\n",
       "      <td>0.000000</td>\n",
       "      <td>0.833490</td>\n",
       "      <td>0.0</td>\n",
       "      <td>0.0</td>\n",
       "      <td>0.0</td>\n",
       "    </tr>\n",
       "    <tr>\n",
       "      <th>1</th>\n",
       "      <td>4896</td>\n",
       "      <td>0.000000</td>\n",
       "      <td>0.000000</td>\n",
       "      <td>0.356976</td>\n",
       "      <td>0.000000</td>\n",
       "      <td>0.322319</td>\n",
       "      <td>0.113846</td>\n",
       "      <td>0.000000</td>\n",
       "      <td>0.000000</td>\n",
       "      <td>0.0</td>\n",
       "      <td>...</td>\n",
       "      <td>0.049943</td>\n",
       "      <td>0.0</td>\n",
       "      <td>0.0</td>\n",
       "      <td>0.0</td>\n",
       "      <td>0.0</td>\n",
       "      <td>0.000000</td>\n",
       "      <td>0.000000</td>\n",
       "      <td>0.0</td>\n",
       "      <td>0.0</td>\n",
       "      <td>0.0</td>\n",
       "    </tr>\n",
       "    <tr>\n",
       "      <th>2</th>\n",
       "      <td>4897</td>\n",
       "      <td>0.247148</td>\n",
       "      <td>0.000000</td>\n",
       "      <td>0.000000</td>\n",
       "      <td>0.222010</td>\n",
       "      <td>0.340727</td>\n",
       "      <td>0.000000</td>\n",
       "      <td>0.000000</td>\n",
       "      <td>0.110717</td>\n",
       "      <td>0.0</td>\n",
       "      <td>...</td>\n",
       "      <td>0.000000</td>\n",
       "      <td>0.0</td>\n",
       "      <td>0.0</td>\n",
       "      <td>0.0</td>\n",
       "      <td>0.0</td>\n",
       "      <td>0.058254</td>\n",
       "      <td>0.000000</td>\n",
       "      <td>0.0</td>\n",
       "      <td>0.0</td>\n",
       "      <td>0.0</td>\n",
       "    </tr>\n",
       "    <tr>\n",
       "      <th>3</th>\n",
       "      <td>4898</td>\n",
       "      <td>0.000000</td>\n",
       "      <td>0.000000</td>\n",
       "      <td>0.000000</td>\n",
       "      <td>0.451154</td>\n",
       "      <td>0.108650</td>\n",
       "      <td>0.000000</td>\n",
       "      <td>0.000000</td>\n",
       "      <td>0.000000</td>\n",
       "      <td>0.0</td>\n",
       "      <td>...</td>\n",
       "      <td>0.000000</td>\n",
       "      <td>0.0</td>\n",
       "      <td>0.0</td>\n",
       "      <td>0.0</td>\n",
       "      <td>0.0</td>\n",
       "      <td>0.000000</td>\n",
       "      <td>0.000000</td>\n",
       "      <td>0.0</td>\n",
       "      <td>0.0</td>\n",
       "      <td>0.0</td>\n",
       "    </tr>\n",
       "    <tr>\n",
       "      <th>4</th>\n",
       "      <td>4899</td>\n",
       "      <td>0.000000</td>\n",
       "      <td>0.124514</td>\n",
       "      <td>0.000000</td>\n",
       "      <td>0.000000</td>\n",
       "      <td>0.000000</td>\n",
       "      <td>0.000000</td>\n",
       "      <td>0.179095</td>\n",
       "      <td>0.000000</td>\n",
       "      <td>0.0</td>\n",
       "      <td>...</td>\n",
       "      <td>0.000000</td>\n",
       "      <td>0.0</td>\n",
       "      <td>0.0</td>\n",
       "      <td>0.0</td>\n",
       "      <td>0.0</td>\n",
       "      <td>0.000000</td>\n",
       "      <td>0.142601</td>\n",
       "      <td>0.0</td>\n",
       "      <td>0.0</td>\n",
       "      <td>0.0</td>\n",
       "    </tr>\n",
       "  </tbody>\n",
       "</table>\n",
       "<p>5 rows × 26 columns</p>\n",
       "</div>"
      ],
      "text/plain": [
       "   doc_id   topic_0   topic_1   topic_2   topic_3   topic_4   topic_5  \\\n",
       "0       6  0.000000  0.000000  0.000000  0.000000  0.039282  0.000000   \n",
       "1    4896  0.000000  0.000000  0.356976  0.000000  0.322319  0.113846   \n",
       "2    4897  0.247148  0.000000  0.000000  0.222010  0.340727  0.000000   \n",
       "3    4898  0.000000  0.000000  0.000000  0.451154  0.108650  0.000000   \n",
       "4    4899  0.000000  0.124514  0.000000  0.000000  0.000000  0.000000   \n",
       "\n",
       "    topic_6   topic_7  topic_8  ...  topic_15  topic_16  topic_17  topic_18  \\\n",
       "0  0.108547  0.000000      0.0  ...  0.000000       0.0       0.0       0.0   \n",
       "1  0.000000  0.000000      0.0  ...  0.049943       0.0       0.0       0.0   \n",
       "2  0.000000  0.110717      0.0  ...  0.000000       0.0       0.0       0.0   \n",
       "3  0.000000  0.000000      0.0  ...  0.000000       0.0       0.0       0.0   \n",
       "4  0.179095  0.000000      0.0  ...  0.000000       0.0       0.0       0.0   \n",
       "\n",
       "   topic_19  topic_20  topic_21  topic_22  topic_23  topic_24  \n",
       "0       0.0  0.000000  0.833490       0.0       0.0       0.0  \n",
       "1       0.0  0.000000  0.000000       0.0       0.0       0.0  \n",
       "2       0.0  0.058254  0.000000       0.0       0.0       0.0  \n",
       "3       0.0  0.000000  0.000000       0.0       0.0       0.0  \n",
       "4       0.0  0.000000  0.142601       0.0       0.0       0.0  \n",
       "\n",
       "[5 rows x 26 columns]"
      ]
     },
     "execution_count": 18,
     "metadata": {},
     "output_type": "execute_result"
    }
   ],
   "source": [
    "topic_matrix = pd.DataFrame([get_lda_vector(text) for text in news['title'].values])\n",
    "topic_matrix.columns = ['topic_{}'.format(i) for i in range(25)]\n",
    "topic_matrix['doc_id'] = news['doc_id'].values\n",
    "topic_matrix = topic_matrix[['doc_id']+['topic_{}'.format(i) for i in range(25)]]\n",
    "topic_matrix.head(5)"
   ]
  },
  {
   "cell_type": "markdown",
   "metadata": {},
   "source": [
    "Прекрасно, мы получили вектора наших новостей! И даже умеем интерпретировать получившиеся темы.\n",
    "\n",
    "Можно двигаться далее"
   ]
  },
  {
   "cell_type": "markdown",
   "metadata": {},
   "source": [
    "### Следующий шаг - векторные представления пользователей"
   ]
  },
  {
   "cell_type": "code",
   "execution_count": 21,
   "metadata": {
    "scrolled": true
   },
   "outputs": [
    {
     "data": {
      "text/html": [
       "<div>\n",
       "<style scoped>\n",
       "    .dataframe tbody tr th:only-of-type {\n",
       "        vertical-align: middle;\n",
       "    }\n",
       "\n",
       "    .dataframe tbody tr th {\n",
       "        vertical-align: top;\n",
       "    }\n",
       "\n",
       "    .dataframe thead th {\n",
       "        text-align: right;\n",
       "    }\n",
       "</style>\n",
       "<table border=\"1\" class=\"dataframe\">\n",
       "  <thead>\n",
       "    <tr style=\"text-align: right;\">\n",
       "      <th></th>\n",
       "      <th>uid</th>\n",
       "      <th>articles</th>\n",
       "    </tr>\n",
       "  </thead>\n",
       "  <tbody>\n",
       "    <tr>\n",
       "      <th>0</th>\n",
       "      <td>u105138</td>\n",
       "      <td>[293672, 293328, 293001, 293622, 293126, 1852]</td>\n",
       "    </tr>\n",
       "    <tr>\n",
       "      <th>1</th>\n",
       "      <td>u108690</td>\n",
       "      <td>[3405, 1739, 2972, 1158, 1599, 322665]</td>\n",
       "    </tr>\n",
       "    <tr>\n",
       "      <th>2</th>\n",
       "      <td>u108339</td>\n",
       "      <td>[1845, 2009, 2356, 1424, 2939, 323389]</td>\n",
       "    </tr>\n",
       "  </tbody>\n",
       "</table>\n",
       "</div>"
      ],
      "text/plain": [
       "       uid                                        articles\n",
       "0  u105138  [293672, 293328, 293001, 293622, 293126, 1852]\n",
       "1  u108690          [3405, 1739, 2972, 1158, 1599, 322665]\n",
       "2  u108339          [1845, 2009, 2356, 1424, 2939, 323389]"
      ]
     },
     "execution_count": 21,
     "metadata": {},
     "output_type": "execute_result"
    }
   ],
   "source": [
    "users.head(3)"
   ]
  },
  {
   "cell_type": "code",
   "execution_count": 37,
   "metadata": {},
   "outputs": [
    {
     "data": {
      "text/plain": [
       "'293672 293328 293001 293622 293126 1852'"
      ]
     },
     "execution_count": 37,
     "metadata": {},
     "output_type": "execute_result"
    }
   ],
   "source": [
    "' '.join(map(str, json.loads(users['articles'][0])))"
   ]
  },
  {
   "cell_type": "code",
   "execution_count": 45,
   "metadata": {},
   "outputs": [],
   "source": [
    "list_docs = [' '.join(map(str, json.loads(row[1]['articles']))) for row in users[['articles']].iterrows()]"
   ]
  },
  {
   "cell_type": "code",
   "execution_count": 56,
   "metadata": {},
   "outputs": [
    {
     "data": {
      "text/plain": [
       "<8000x14787 sparse matrix of type '<class 'numpy.float64'>'\n",
       "\twith 47979 stored elements in Compressed Sparse Row format>"
      ]
     },
     "execution_count": 56,
     "metadata": {},
     "output_type": "execute_result"
    }
   ],
   "source": [
    "vectorizer = TfidfVectorizer(tokenizer=str.split)\n",
    "vectorizer.fit_transform(list_docs)"
   ]
  },
  {
   "cell_type": "code",
   "execution_count": 66,
   "metadata": {},
   "outputs": [],
   "source": [
    "dict_idf = dict(zip(list(vectorizer.vocabulary_.keys()), vectorizer.idf_))"
   ]
  },
  {
   "cell_type": "code",
   "execution_count": 67,
   "metadata": {},
   "outputs": [
    {
     "data": {
      "text/plain": [
       "{'293672': 8.888709524182016,\n",
       " '293328': 7.9078802711702885,\n",
       " '293001': 8.041411663794811,\n",
       " '293622': 8.888709524182016,\n",
       " '293126': 8.888709524182016,\n",
       " '1852': 8.041411663794811,\n",
       " '3405': 8.601027451730232,\n",
       " '1739': 9.29417463229018,\n",
       " '2972': 9.29417463229018,\n",
       " '1158': 9.29417463229018,\n",
       " '1599': 8.888709524182016,\n",
       " '322665': 7.589426540051753,\n",
       " '1845': 8.601027451730232,\n",
       " '2009': 9.29417463229018,\n",
       " '2356': 8.377883900416023,\n",
       " '1424': 8.888709524182016,\n",
       " '2939': 8.888709524182016,\n",
       " '323389': 9.29417463229018,\n",
       " '5933': 8.888709524182016,\n",
       " '6186': 8.888709524182016,\n",
       " '5055': 8.888709524182016,\n",
       " '6977': 8.377883900416023,\n",
       " '5206': 7.9078802711702885,\n",
       " '488389': 8.888709524182016,\n",
       " '707': 9.29417463229018,\n",
       " '1144': 9.29417463229018,\n",
       " '2532': 8.601027451730232,\n",
       " '2928': 9.29417463229018,\n",
       " '3133': 8.888709524182016,\n",
       " '324592': 8.888709524182016,\n",
       " '323868': 8.888709524182016,\n",
       " '323426': 8.888709524182016,\n",
       " '324267': 7.9078802711702885,\n",
       " '322426': 8.601027451730232,\n",
       " '324104': 8.377883900416023,\n",
       " '1550': 8.377883900416023,\n",
       " '293138': 8.601027451730232,\n",
       " '294471': 8.377883900416023,\n",
       " '295012': 8.888709524182016,\n",
       " '294736': 8.601027451730232,\n",
       " '293949': 8.601027451730232,\n",
       " '3544': 8.601027451730232,\n",
       " '6928': 9.29417463229018,\n",
       " '5009': 8.888709524182016,\n",
       " '6940': 8.888709524182016,\n",
       " '7629': 8.601027451730232,\n",
       " '7644': 8.041411663794811,\n",
       " '512736': 7.790097235513905,\n",
       " '322838': 8.377883900416023,\n",
       " '324699': 8.377883900416023,\n",
       " '322991': 9.29417463229018,\n",
       " '322120': 7.684736719856078,\n",
       " '324327': 8.377883900416023,\n",
       " '472331': 8.377883900416023,\n",
       " '7827': 8.601027451730232,\n",
       " '6427': 8.377883900416023,\n",
       " '7394': 8.377883900416023,\n",
       " '7151': 8.041411663794811,\n",
       " '6335': 8.888709524182016,\n",
       " '487254': 8.601027451730232,\n",
       " '322147': 9.29417463229018,\n",
       " '322974': 9.29417463229018,\n",
       " '322922': 8.888709524182016,\n",
       " '74': 8.601027451730232,\n",
       " '472624': 9.29417463229018,\n",
       " '6163': 8.195562343622068,\n",
       " '7517': 8.377883900416023,\n",
       " '6678': 8.888709524182016,\n",
       " '7482': 8.377883900416023,\n",
       " '5124': 8.377883900416023,\n",
       " '511479': 8.195562343622068,\n",
       " '323041': 8.377883900416023,\n",
       " '322782': 8.601027451730232,\n",
       " '322341': 8.888709524182016,\n",
       " '323296': 9.29417463229018,\n",
       " '324213': 8.601027451730232,\n",
       " '473474': 9.29417463229018,\n",
       " '293610': 9.29417463229018,\n",
       " '293254': 8.601027451730232,\n",
       " '294722': 8.195562343622068,\n",
       " '290157': 9.29417463229018,\n",
       " '294206': 9.29417463229018,\n",
       " '3333': 9.29417463229018,\n",
       " '324642': 8.377883900416023,\n",
       " '324210': 8.195562343622068,\n",
       " '322657': 8.601027451730232,\n",
       " '323620': 8.601027451730232,\n",
       " '43': 8.888709524182016,\n",
       " '473393': 8.601027451730232,\n",
       " '1815': 8.601027451730232,\n",
       " '881': 8.601027451730232,\n",
       " '2707': 8.601027451730232,\n",
       " '908': 8.601027451730232,\n",
       " '1991': 9.29417463229018,\n",
       " '324591': 8.601027451730232,\n",
       " '324558': 8.601027451730232,\n",
       " '324474': 9.29417463229018,\n",
       " '322456': 8.195562343622068,\n",
       " '321907': 9.29417463229018,\n",
       " '324207': 9.29417463229018,\n",
       " '473417': 9.29417463229018,\n",
       " '6496': 9.29417463229018,\n",
       " '5702': 8.377883900416023,\n",
       " '6539': 8.601027451730232,\n",
       " '4975': 8.888709524182016,\n",
       " '6478': 8.195562343622068,\n",
       " '488381': 8.041411663794811,\n",
       " '33': 9.29417463229018,\n",
       " '323960': 8.601027451730232,\n",
       " '323752': 8.377883900416023,\n",
       " '322762': 8.601027451730232,\n",
       " '323119': 8.888709524182016,\n",
       " '473084': 8.377883900416023,\n",
       " '323805': 8.601027451730232,\n",
       " '321846': 8.888709524182016,\n",
       " '322203': 8.888709524182016,\n",
       " '322049': 9.29417463229018,\n",
       " '322512': 8.377883900416023,\n",
       " '471812': 8.888709524182016,\n",
       " '3467': 8.601027451730232,\n",
       " '1761': 8.601027451730232,\n",
       " '3074': 8.601027451730232,\n",
       " '3055': 9.29417463229018,\n",
       " '1135': 8.377883900416023,\n",
       " '322136': 8.888709524182016,\n",
       " '1680': 8.601027451730232,\n",
       " '635': 8.888709524182016,\n",
       " '2971': 8.377883900416023,\n",
       " '3350': 8.601027451730232,\n",
       " '1326': 9.29417463229018,\n",
       " '322982': 9.29417463229018,\n",
       " '324361': 8.601027451730232,\n",
       " '323745': 8.888709524182016,\n",
       " '323278': 8.377883900416023,\n",
       " '324106': 8.888709524182016,\n",
       " '323324': 8.377883900416023,\n",
       " '1877': 8.888709524182016,\n",
       " '323368': 8.601027451730232,\n",
       " '321993': 9.29417463229018,\n",
       " '323512': 9.29417463229018,\n",
       " '322461': 8.601027451730232,\n",
       " '324603': 8.377883900416023,\n",
       " '169': 8.601027451730232,\n",
       " '293679': 9.29417463229018,\n",
       " '293757': 8.041411663794811,\n",
       " '292909': 9.29417463229018,\n",
       " '295255': 9.29417463229018,\n",
       " '1782': 8.377883900416023,\n",
       " '323855': 8.888709524182016,\n",
       " '322949': 9.29417463229018,\n",
       " '324179': 8.888709524182016,\n",
       " '323013': 8.888709524182016,\n",
       " '322231': 8.377883900416023,\n",
       " '2817': 9.29417463229018,\n",
       " '324687': 9.29417463229018,\n",
       " '323948': 8.377883900416023,\n",
       " '322220': 8.195562343622068,\n",
       " '323508': 8.195562343622068,\n",
       " '323761': 8.888709524182016,\n",
       " '322620': 9.29417463229018,\n",
       " '322459': 8.888709524182016,\n",
       " '322669': 8.377883900416023,\n",
       " '322008': 8.601027451730232,\n",
       " '322905': 8.601027451730232,\n",
       " '472454': 8.888709524182016,\n",
       " '323813': 9.29417463229018,\n",
       " '323546': 8.888709524182016,\n",
       " '322671': 8.601027451730232,\n",
       " '323961': 7.790097235513905,\n",
       " '82': 7.9078802711702885,\n",
       " '678': 8.195562343622068,\n",
       " '322694': 8.601027451730232,\n",
       " '324484': 9.29417463229018,\n",
       " '323733': 8.377883900416023,\n",
       " '322605': 8.195562343622068,\n",
       " '531801': 8.195562343622068,\n",
       " '323568': 9.29417463229018,\n",
       " '322109': 8.377883900416023,\n",
       " '323979': 8.888709524182016,\n",
       " '323746': 9.29417463229018,\n",
       " '323355': 8.888709524182016,\n",
       " '1034': 8.601027451730232,\n",
       " '322011': 8.601027451730232,\n",
       " '324199': 8.888709524182016,\n",
       " '322599': 8.601027451730232,\n",
       " '323633': 9.29417463229018,\n",
       " '324259': 8.888709524182016,\n",
       " '471530': 8.888709524182016,\n",
       " '6687': 8.888709524182016,\n",
       " '5718': 8.888709524182016,\n",
       " '6912': 8.601027451730232,\n",
       " '6553': 9.29417463229018,\n",
       " '5339': 9.29417463229018,\n",
       " '495247': 9.29417463229018,\n",
       " '323329': 8.601027451730232,\n",
       " '321961': 8.888709524182016,\n",
       " '324743': 8.888709524182016,\n",
       " '323186': 8.377883900416023,\n",
       " '324632': 8.601027451730232,\n",
       " '474690': 8.888709524182016,\n",
       " '322663': 8.195562343622068,\n",
       " '322332': 8.377883900416023,\n",
       " '323225': 8.601027451730232,\n",
       " '324700': 8.601027451730232,\n",
       " '324338': 8.601027451730232,\n",
       " '474267': 8.888709524182016,\n",
       " '294035': 7.9078802711702885,\n",
       " '293677': 9.29417463229018,\n",
       " '294069': 8.888709524182016,\n",
       " '294632': 8.601027451730232,\n",
       " '294579': 8.377883900416023,\n",
       " '3217': 9.29417463229018,\n",
       " '5935': 8.888709524182016,\n",
       " '6008': 8.888709524182016,\n",
       " '6857': 8.377883900416023,\n",
       " '6926': 8.195562343622068,\n",
       " '6679': 8.195562343622068,\n",
       " '513087': 9.29417463229018,\n",
       " '293068': 8.888709524182016,\n",
       " '293439': 8.377883900416023,\n",
       " '294946': 8.377883900416023,\n",
       " '293838': 8.377883900416023,\n",
       " '597': 8.601027451730232,\n",
       " '6864': 8.888709524182016,\n",
       " '5022': 9.29417463229018,\n",
       " '6987': 8.041411663794811,\n",
       " '6795': 8.888709524182016,\n",
       " '7854': 9.29417463229018,\n",
       " '488305': 8.601027451730232,\n",
       " '6521': 8.888709524182016,\n",
       " '7873': 9.29417463229018,\n",
       " '6584': 8.601027451730232,\n",
       " '5259': 9.29417463229018,\n",
       " '6229': 8.601027451730232,\n",
       " '488017': 9.29417463229018,\n",
       " '322770': 8.888709524182016,\n",
       " '323197': 8.888709524182016,\n",
       " '324039': 9.29417463229018,\n",
       " '323701': 8.888709524182016,\n",
       " '324728': 8.377883900416023,\n",
       " '1850': 8.195562343622068,\n",
       " '6217': 8.601027451730232,\n",
       " '7194': 8.888709524182016,\n",
       " '5609': 9.29417463229018,\n",
       " '6269': 8.888709524182016,\n",
       " '7320': 8.888709524182016,\n",
       " '495333': 8.888709524182016,\n",
       " '323015': 8.601027451730232,\n",
       " '323359': 8.888709524182016,\n",
       " '324683': 8.377883900416023,\n",
       " '322414': 9.29417463229018,\n",
       " '92': 8.888709524182016,\n",
       " '472359': 9.29417463229018,\n",
       " '4940': 8.888709524182016,\n",
       " '5358': 8.888709524182016,\n",
       " '7031': 8.377883900416023,\n",
       " '5337': 9.29417463229018,\n",
       " '5447': 8.377883900416023,\n",
       " '513078': 8.601027451730232,\n",
       " '3126': 8.601027451730232,\n",
       " '2684': 9.29417463229018,\n",
       " '1384': 8.888709524182016,\n",
       " '3000': 8.601027451730232,\n",
       " '1330': 8.601027451730232,\n",
       " '323213': 8.601027451730232,\n",
       " '6850': 8.377883900416023,\n",
       " '5521': 8.601027451730232,\n",
       " '5491': 9.29417463229018,\n",
       " '7606': 8.601027451730232,\n",
       " '5620': 8.601027451730232,\n",
       " '495258': 8.888709524182016,\n",
       " '324283': 8.888709524182016,\n",
       " '324748': 8.888709524182016,\n",
       " '322439': 8.888709524182016,\n",
       " '322317': 8.377883900416023,\n",
       " '322285': 9.29417463229018,\n",
       " '533586': 8.377883900416023,\n",
       " '323708': 8.377883900416023,\n",
       " '324531': 8.888709524182016,\n",
       " '322702': 8.888709524182016,\n",
       " '323281': 8.888709524182016,\n",
       " '322489': 9.29417463229018,\n",
       " '474065': 8.888709524182016,\n",
       " '6322': 8.377883900416023,\n",
       " '6538': 8.377883900416023,\n",
       " '6776': 8.601027451730232,\n",
       " '5970': 8.888709524182016,\n",
       " '6325': 8.601027451730232,\n",
       " '488079': 8.601027451730232,\n",
       " '3564': 8.888709524182016,\n",
       " '2005': 8.377883900416023,\n",
       " '3532': 8.888709524182016,\n",
       " '656': 8.601027451730232,\n",
       " '1485': 9.29417463229018,\n",
       " '323127': 8.601027451730232,\n",
       " '323514': 8.888709524182016,\n",
       " '323490': 8.888709524182016,\n",
       " '46': 8.377883900416023,\n",
       " '322559': 8.377883900416023,\n",
       " '474633': 9.29417463229018,\n",
       " '323817': 8.377883900416023,\n",
       " '324530': 8.377883900416023,\n",
       " '323311': 9.29417463229018,\n",
       " '323042': 8.601027451730232,\n",
       " '322052': 8.888709524182016,\n",
       " '513716': 9.29417463229018,\n",
       " '324339': 8.601027451730232,\n",
       " '322697': 8.888709524182016,\n",
       " '323984': 8.377883900416023,\n",
       " '323685': 8.195562343622068,\n",
       " '323239': 8.888709524182016,\n",
       " '472562': 9.29417463229018,\n",
       " '4981': 8.041411663794811,\n",
       " '6476': 8.888709524182016,\n",
       " '6823': 8.601027451730232,\n",
       " '6093': 9.29417463229018,\n",
       " '6560': 9.29417463229018,\n",
       " '512753': 8.195562343622068,\n",
       " '102': 8.041411663794811,\n",
       " '322507': 8.041411663794811,\n",
       " '323108': 9.29417463229018,\n",
       " '322811': 8.888709524182016,\n",
       " '321900': 8.601027451730232,\n",
       " '472833': 8.601027451730232,\n",
       " '322997': 9.29417463229018,\n",
       " '324043': 8.888709524182016,\n",
       " '324157': 9.29417463229018,\n",
       " '322816': 8.195562343622068,\n",
       " '323549': 8.888709524182016,\n",
       " '473615': 8.377883900416023,\n",
       " '5105': 8.888709524182016,\n",
       " '5917': 8.195562343622068,\n",
       " '5795': 8.888709524182016,\n",
       " '5043': 8.601027451730232,\n",
       " '7869': 8.888709524182016,\n",
       " '486920': 8.601027451730232,\n",
       " '322724': 8.601027451730232,\n",
       " '322250': 8.888709524182016,\n",
       " '322558': 8.888709524182016,\n",
       " '323412': 8.888709524182016,\n",
       " '321945': 8.377883900416023,\n",
       " '473309': 8.195562343622068,\n",
       " '322994': 8.888709524182016,\n",
       " '321873': 9.29417463229018,\n",
       " '324008': 8.888709524182016,\n",
       " '321989': 8.888709524182016,\n",
       " '323852': 8.601027451730232,\n",
       " '473800': 8.888709524182016,\n",
       " '4932': 8.888709524182016,\n",
       " '6177': 8.377883900416023,\n",
       " '7240': 9.29417463229018,\n",
       " '5479': 9.29417463229018,\n",
       " '6049': 8.888709524182016,\n",
       " '486890': 9.29417463229018,\n",
       " '6267': 8.888709524182016,\n",
       " '7233': 8.377883900416023,\n",
       " '7581': 9.29417463229018,\n",
       " '7077': 9.29417463229018,\n",
       " '7698': 8.601027451730232,\n",
       " '513405': 8.888709524182016,\n",
       " '293538': 8.601027451730232,\n",
       " '293154': 8.601027451730232,\n",
       " '294637': 8.377883900416023,\n",
       " '295108': 8.888709524182016,\n",
       " '294448': 9.29417463229018,\n",
       " '2458': 8.377883900416023,\n",
       " '5762': 8.377883900416023,\n",
       " '5732': 9.29417463229018,\n",
       " '7256': 8.888709524182016,\n",
       " '7679': 8.601027451730232,\n",
       " '6402': 9.29417463229018,\n",
       " '512913': 9.29417463229018,\n",
       " '1675': 8.601027451730232,\n",
       " '1881': 8.888709524182016,\n",
       " '3291': 8.888709524182016,\n",
       " '2725': 8.888709524182016,\n",
       " '2515': 8.888709524182016,\n",
       " '323199': 8.888709524182016,\n",
       " '321995': 8.601027451730232,\n",
       " '323312': 8.888709524182016,\n",
       " '324595': 8.377883900416023,\n",
       " '324250': 9.29417463229018,\n",
       " '324598': 9.29417463229018,\n",
       " '473533': 9.29417463229018,\n",
       " '322161': 8.377883900416023,\n",
       " '324461': 8.888709524182016,\n",
       " '322685': 8.377883900416023,\n",
       " '323043': 9.29417463229018,\n",
       " '470643': 8.601027451730232,\n",
       " '321884': 8.601027451730232,\n",
       " '323944': 9.29417463229018,\n",
       " '323028': 8.377883900416023,\n",
       " '324704': 8.601027451730232,\n",
       " '322128': 9.29417463229018,\n",
       " '517268': 8.888709524182016,\n",
       " '323384': 8.601027451730232,\n",
       " '322875': 9.29417463229018,\n",
       " '321851': 9.29417463229018,\n",
       " '323996': 8.888709524182016,\n",
       " '323598': 8.888709524182016,\n",
       " '472382': 8.888709524182016,\n",
       " '293381': 9.29417463229018,\n",
       " '294616': 8.601027451730232,\n",
       " '292673': 9.29417463229018,\n",
       " '294898': 8.888709524182016,\n",
       " '294634': 9.29417463229018,\n",
       " '852': 9.29417463229018,\n",
       " '324040': 8.888709524182016,\n",
       " '321943': 8.377883900416023,\n",
       " '324442': 7.9078802711702885,\n",
       " '323401': 8.601027451730232,\n",
       " '472611': 8.601027451730232,\n",
       " '5021': 9.29417463229018,\n",
       " '7406': 8.888709524182016,\n",
       " '6791': 8.601027451730232,\n",
       " '7702': 8.377883900416023,\n",
       " '4958': 8.195562343622068,\n",
       " '487481': 9.29417463229018,\n",
       " '324190': 8.195562343622068,\n",
       " '323138': 8.888709524182016,\n",
       " '322513': 8.377883900416023,\n",
       " '324366': 9.29417463229018,\n",
       " '474969': 8.888709524182016,\n",
       " '324731': 8.888709524182016,\n",
       " '321867': 8.377883900416023,\n",
       " '323788': 9.29417463229018,\n",
       " '322179': 9.29417463229018,\n",
       " '322676': 9.29417463229018,\n",
       " '471802': 8.888709524182016,\n",
       " '324489': 8.888709524182016,\n",
       " '322578': 8.888709524182016,\n",
       " '324661': 8.195562343622068,\n",
       " '322747': 9.29417463229018,\n",
       " '323907': 8.601027451730232,\n",
       " '617': 8.601027451730232,\n",
       " '293122': 8.888709524182016,\n",
       " '292920': 7.9078802711702885,\n",
       " '293811': 9.29417463229018,\n",
       " '294468': 8.601027451730232,\n",
       " '292942': 8.888709524182016,\n",
       " '2153': 9.29417463229018,\n",
       " '322336': 8.888709524182016,\n",
       " '323476': 8.888709524182016,\n",
       " '324178': 8.888709524182016,\n",
       " '321880': 8.601027451730232,\n",
       " '323863': 9.29417463229018,\n",
       " '301': 8.195562343622068,\n",
       " '7227': 9.29417463229018,\n",
       " '6650': 8.601027451730232,\n",
       " '7058': 8.601027451730232,\n",
       " '5110': 8.888709524182016,\n",
       " '513120': 8.377883900416023,\n",
       " '322133': 8.195562343622068,\n",
       " '322728': 8.888709524182016,\n",
       " '321959': 8.377883900416023,\n",
       " '323090': 9.29417463229018,\n",
       " '532436': 9.29417463229018,\n",
       " '324470': 8.195562343622068,\n",
       " '37': 9.29417463229018,\n",
       " '323601': 8.601027451730232,\n",
       " '322212': 8.195562343622068,\n",
       " '324747': 8.601027451730232,\n",
       " '471257': 9.29417463229018,\n",
       " '3100': 8.888709524182016,\n",
       " '1816': 9.29417463229018,\n",
       " '957': 8.601027451730232,\n",
       " '2938': 9.29417463229018,\n",
       " '3481': 8.888709524182016,\n",
       " '323506': 8.888709524182016,\n",
       " '768': 8.601027451730232,\n",
       " '1105': 8.195562343622068,\n",
       " '640': 8.601027451730232,\n",
       " '2633': 8.377883900416023,\n",
       " '2057': 8.377883900416023,\n",
       " '324438': 8.601027451730232,\n",
       " '323113': 8.888709524182016,\n",
       " '323502': 9.29417463229018,\n",
       " '322536': 9.29417463229018,\n",
       " '324181': 8.601027451730232,\n",
       " '38': 8.195562343622068,\n",
       " '108': 8.601027451730232,\n",
       " '322928': 8.888709524182016,\n",
       " '321923': 8.195562343622068,\n",
       " '322934': 8.888709524182016,\n",
       " '322802': 8.888709524182016,\n",
       " '472263': 8.888709524182016,\n",
       " '324344': 8.377883900416023,\n",
       " '322468': 9.29417463229018,\n",
       " '323450': 9.29417463229018,\n",
       " '324152': 9.29417463229018,\n",
       " '323504': 8.888709524182016,\n",
       " '472019': 8.195562343622068,\n",
       " '3461': 9.29417463229018,\n",
       " '1241': 9.29417463229018,\n",
       " '1623': 8.888709524182016,\n",
       " '1086': 8.601027451730232,\n",
       " '2896': 8.601027451730232,\n",
       " '321912': 8.601027451730232,\n",
       " '324696': 9.29417463229018,\n",
       " '323240': 8.888709524182016,\n",
       " '324694': 8.601027451730232,\n",
       " '322401': 8.601027451730232,\n",
       " '533433': 9.29417463229018,\n",
       " '323376': 8.601027451730232,\n",
       " '322749': 9.29417463229018,\n",
       " '322143': 9.29417463229018,\n",
       " '324088': 8.195562343622068,\n",
       " '322310': 9.29417463229018,\n",
       " '519922': 9.29417463229018,\n",
       " '322138': 8.888709524182016,\n",
       " '324154': 8.888709524182016,\n",
       " '321903': 8.601027451730232,\n",
       " '323718': 8.601027451730232,\n",
       " '324690': 8.377883900416023,\n",
       " '472211': 8.601027451730232,\n",
       " '324218': 8.888709524182016,\n",
       " '322371': 8.377883900416023,\n",
       " '323270': 8.601027451730232,\n",
       " '324034': 8.601027451730232,\n",
       " '323492': 8.601027451730232,\n",
       " '474264': 8.888709524182016,\n",
       " '4923': 8.888709524182016,\n",
       " '5764': 8.601027451730232,\n",
       " '6658': 8.601027451730232,\n",
       " '7113': 8.377883900416023,\n",
       " '5425': 8.888709524182016,\n",
       " '513176': 8.888709524182016,\n",
       " '324186': 8.888709524182016,\n",
       " '323538': 8.601027451730232,\n",
       " '323591': 9.29417463229018,\n",
       " '324458': 8.195562343622068,\n",
       " '533148': 9.29417463229018,\n",
       " '323109': 9.29417463229018,\n",
       " '324124': 9.29417463229018,\n",
       " '323054': 8.377883900416023,\n",
       " '322267': 9.29417463229018,\n",
       " '2013': 8.377883900416023,\n",
       " '323521': 8.601027451730232,\n",
       " '323510': 8.377883900416023,\n",
       " '322803': 8.888709524182016,\n",
       " '323864': 9.29417463229018,\n",
       " '322034': 9.29417463229018,\n",
       " '474798': 8.888709524182016,\n",
       " '290120': 7.9078802711702885,\n",
       " '293687': 8.888709524182016,\n",
       " '293876': 9.29417463229018,\n",
       " '293185': 8.888709524182016,\n",
       " '294554': 8.888709524182016,\n",
       " '1233': 8.377883900416023,\n",
       " '294051': 8.888709524182016,\n",
       " '295145': 9.29417463229018,\n",
       " '294818': 8.888709524182016,\n",
       " '295293': 8.377883900416023,\n",
       " '293065': 8.377883900416023,\n",
       " '3341': 9.29417463229018,\n",
       " '323371': 8.601027451730232,\n",
       " '324406': 8.195562343622068,\n",
       " '324140': 8.601027451730232,\n",
       " '322500': 9.29417463229018,\n",
       " '1666': 8.195562343622068,\n",
       " '7479': 8.888709524182016,\n",
       " '5109': 8.377883900416023,\n",
       " '7876': 8.601027451730232,\n",
       " '5515': 7.9078802711702885,\n",
       " '5949': 8.888709524182016,\n",
       " '512878': 8.377883900416023,\n",
       " '294138': 8.888709524182016,\n",
       " '290229': 8.601027451730232,\n",
       " '290189': 9.29417463229018,\n",
       " '292815': 8.601027451730232,\n",
       " '293416': 8.601027451730232,\n",
       " '1391': 8.888709524182016,\n",
       " '293745': 8.377883900416023,\n",
       " '293071': 9.29417463229018,\n",
       " '290146': 8.601027451730232,\n",
       " '295272': 8.377883900416023,\n",
       " '292874': 8.888709524182016,\n",
       " '675': 8.888709524182016,\n",
       " '7769': 9.29417463229018,\n",
       " '5354': 8.377883900416023,\n",
       " '6382': 8.888709524182016,\n",
       " '6882': 8.888709524182016,\n",
       " '4952': 8.195562343622068,\n",
       " '495539': 9.29417463229018,\n",
       " '294329': 9.29417463229018,\n",
       " '293806': 8.601027451730232,\n",
       " '294470': 8.377883900416023,\n",
       " '294800': 8.888709524182016,\n",
       " '294527': 8.601027451730232,\n",
       " '3494': 8.888709524182016,\n",
       " '7180': 8.195562343622068,\n",
       " '7463': 8.888709524182016,\n",
       " '7129': 8.601027451730232,\n",
       " '6016': 8.888709524182016,\n",
       " '7706': 8.888709524182016,\n",
       " '513273': 8.041411663794811,\n",
       " '324123': 8.377883900416023,\n",
       " '324137': 8.601027451730232,\n",
       " '324090': 9.29417463229018,\n",
       " '322531': 9.29417463229018,\n",
       " '472403': 8.377883900416023,\n",
       " '324136': 8.888709524182016,\n",
       " '324281': 9.29417463229018,\n",
       " '322067': 8.888709524182016,\n",
       " '321954': 8.195562343622068,\n",
       " '324252': 9.29417463229018,\n",
       " '471666': 9.29417463229018,\n",
       " '7567': 8.888709524182016,\n",
       " '5790': 8.195562343622068,\n",
       " '6562': 8.888709524182016,\n",
       " '4908': 8.888709524182016,\n",
       " '495287': 8.888709524182016,\n",
       " '323832': 8.888709524182016,\n",
       " '321944': 8.377883900416023,\n",
       " '323766': 8.601027451730232,\n",
       " '323159': 8.601027451730232,\n",
       " '3555': 8.601027451730232,\n",
       " '7835': 9.29417463229018,\n",
       " '6383': 9.29417463229018,\n",
       " '7866': 8.601027451730232,\n",
       " '6684': 8.195562343622068,\n",
       " '7177': 8.888709524182016,\n",
       " '512664': 8.377883900416023,\n",
       " '2988': 9.29417463229018,\n",
       " '1508': 8.601027451730232,\n",
       " '2917': 8.041411663794811,\n",
       " '1098': 8.195562343622068,\n",
       " '321847': 8.888709524182016,\n",
       " '324037': 9.29417463229018,\n",
       " '323898': 8.888709524182016,\n",
       " '322180': 8.195562343622068,\n",
       " '322858': 8.377883900416023,\n",
       " '472289': 9.29417463229018,\n",
       " '294037': 9.29417463229018,\n",
       " '293670': 8.888709524182016,\n",
       " '294214': 9.29417463229018,\n",
       " '294606': 8.601027451730232,\n",
       " '292733': 8.888709524182016,\n",
       " '1308': 9.29417463229018,\n",
       " '323723': 8.601027451730232,\n",
       " '322086': 8.601027451730232,\n",
       " '322805': 8.377883900416023,\n",
       " '324641': 8.601027451730232,\n",
       " '324072': 8.601027451730232,\n",
       " '3308': 8.888709524182016,\n",
       " '324573': 9.29417463229018,\n",
       " '324282': 9.29417463229018,\n",
       " '322004': 9.29417463229018,\n",
       " '321888': 8.601027451730232,\n",
       " '472959': 9.29417463229018,\n",
       " '5383': 8.888709524182016,\n",
       " '5176': 8.601027451730232,\n",
       " '7203': 8.377883900416023,\n",
       " '6862': 8.041411663794811,\n",
       " '6084': 8.888709524182016,\n",
       " '488271': 8.041411663794811,\n",
       " '323193': 9.29417463229018,\n",
       " '323976': 8.888709524182016,\n",
       " '323860': 8.888709524182016,\n",
       " '323561': 9.29417463229018,\n",
       " '322631': 9.29417463229018,\n",
       " '473945': 8.601027451730232,\n",
       " '323845': 9.29417463229018,\n",
       " '323233': 7.790097235513905,\n",
       " '322635': 8.888709524182016,\n",
       " '324607': 8.888709524182016,\n",
       " '322972': 8.601027451730232,\n",
       " '474265': 8.888709524182016,\n",
       " '7438': 9.29417463229018,\n",
       " '6486': 9.29417463229018,\n",
       " '6626': 9.29417463229018,\n",
       " '5274': 8.601027451730232,\n",
       " '5291': 8.601027451730232,\n",
       " '487390': 8.601027451730232,\n",
       " '322874': 9.29417463229018,\n",
       " '322833': 9.29417463229018,\n",
       " '322779': 8.377883900416023,\n",
       " '324052': 9.29417463229018,\n",
       " '323445': 8.377883900416023,\n",
       " '474942': 8.377883900416023,\n",
       " '322279': 8.601027451730232,\n",
       " '322826': 8.377883900416023,\n",
       " '322372': 8.888709524182016,\n",
       " '101': 9.29417463229018,\n",
       " '321939': 9.29417463229018,\n",
       " '473323': 8.888709524182016,\n",
       " '323304': 8.888709524182016,\n",
       " '323883': 8.888709524182016,\n",
       " '321841': 8.377883900416023,\n",
       " '324644': 8.888709524182016,\n",
       " '323715': 8.377883900416023,\n",
       " '322525': 9.29417463229018,\n",
       " '322650': 7.9078802711702885,\n",
       " '324533': 9.29417463229018,\n",
       " '322262': 9.29417463229018,\n",
       " '474564': 9.29417463229018,\n",
       " '323974': 8.601027451730232,\n",
       " '324304': 9.29417463229018,\n",
       " '322187': 8.888709524182016,\n",
       " '323730': 8.041411663794811,\n",
       " '322535': 8.888709524182016,\n",
       " '471025': 9.29417463229018,\n",
       " '324660': 8.888709524182016,\n",
       " '321977': 8.888709524182016,\n",
       " '324116': 9.29417463229018,\n",
       " '323495': 8.041411663794811,\n",
       " '321842': 9.29417463229018,\n",
       " '531080': 8.041411663794811,\n",
       " '6121': 8.601027451730232,\n",
       " '5082': 9.29417463229018,\n",
       " '5546': 9.29417463229018,\n",
       " '6964': 8.601027451730232,\n",
       " '7205': 9.29417463229018,\n",
       " '488298': 8.888709524182016,\n",
       " '2495': 8.888709524182016,\n",
       " '627': 8.888709524182016,\n",
       " '1858': 9.29417463229018,\n",
       " '3296': 8.601027451730232,\n",
       " '2228': 8.601027451730232,\n",
       " '5333': 8.601027451730232,\n",
       " '6220': 8.888709524182016,\n",
       " '5606': 9.29417463229018,\n",
       " '6354': 8.601027451730232,\n",
       " '6838': 8.195562343622068,\n",
       " '488208': 8.601027451730232,\n",
       " '3053': 9.29417463229018,\n",
       " '2647': 8.888709524182016,\n",
       " '875': 9.29417463229018,\n",
       " '2442': 8.195562343622068,\n",
       " '323498': 8.888709524182016,\n",
       " '322701': 9.29417463229018,\n",
       " '324663': 8.601027451730232,\n",
       " '323501': 8.888709524182016,\n",
       " '323901': 8.195562343622068,\n",
       " '322765': 9.29417463229018,\n",
       " '471515': 8.888709524182016,\n",
       " '323621': 8.601027451730232,\n",
       " '324676': 8.195562343622068,\n",
       " '323931': 9.29417463229018,\n",
       " '321988': 9.29417463229018,\n",
       " '323545': 9.29417463229018,\n",
       " '2819': 8.888709524182016,\n",
       " '321893': 8.601027451730232,\n",
       " '322217': 9.29417463229018,\n",
       " '324689': 8.041411663794811,\n",
       " '324318': 8.888709524182016,\n",
       " '385': 8.041411663794811,\n",
       " '324588': 9.29417463229018,\n",
       " '322288': 8.888709524182016,\n",
       " '473624': 9.29417463229018,\n",
       " '294241': 8.888709524182016,\n",
       " '292692': 8.888709524182016,\n",
       " '293536': 9.29417463229018,\n",
       " '293869': 8.888709524182016,\n",
       " '295302': 8.888709524182016,\n",
       " '1118': 9.29417463229018,\n",
       " '323005': 8.888709524182016,\n",
       " '324423': 8.601027451730232,\n",
       " '322381': 9.29417463229018,\n",
       " '531916': 8.195562343622068,\n",
       " '6880': 8.601027451730232,\n",
       " '6899': 7.9078802711702885,\n",
       " '6337': 9.29417463229018,\n",
       " '6723': 8.601027451730232,\n",
       " '5516': 9.29417463229018,\n",
       " '488239': 9.29417463229018,\n",
       " '322247': 9.29417463229018,\n",
       " '324486': 8.888709524182016,\n",
       " '322244': 9.29417463229018,\n",
       " '322711': 8.888709524182016,\n",
       " '2777': 9.29417463229018,\n",
       " '324454': 8.888709524182016,\n",
       " '322869': 9.29417463229018,\n",
       " '323163': 8.888709524182016,\n",
       " '322488': 9.29417463229018,\n",
       " '474094': 8.888709524182016,\n",
       " '2589': 9.29417463229018,\n",
       " '3102': 9.29417463229018,\n",
       " '3156': 9.29417463229018,\n",
       " '3460': 9.29417463229018,\n",
       " '2422': 8.041411663794811,\n",
       " '324711': 8.601027451730232,\n",
       " '1014': 8.888709524182016,\n",
       " '888': 8.195562343622068,\n",
       " '915': 9.29417463229018,\n",
       " '2072': 9.29417463229018,\n",
       " '2419': 8.041411663794811,\n",
       " '324084': 8.888709524182016,\n",
       " '688': 9.29417463229018,\n",
       " '2715': 8.377883900416023,\n",
       " '2492': 8.888709524182016,\n",
       " '3022': 8.195562343622068,\n",
       " '3558': 8.601027451730232,\n",
       " '322333': 8.888709524182016,\n",
       " '56': 8.888709524182016,\n",
       " '322590': 9.29417463229018,\n",
       " '322157': 9.29417463229018,\n",
       " '322304': 9.29417463229018,\n",
       " '470680': 8.601027451730232,\n",
       " '322398': 8.377883900416023,\n",
       " '324239': 8.888709524182016,\n",
       " '85': 8.601027451730232,\n",
       " '322678': 8.888709524182016,\n",
       " '472568': 9.29417463229018,\n",
       " '323208': 9.29417463229018,\n",
       " '324684': 8.888709524182016,\n",
       " '323333': 8.601027451730232,\n",
       " '323922': 8.601027451730232,\n",
       " '471804': 8.601027451730232,\n",
       " '322349': 8.888709524182016,\n",
       " '324658': 9.29417463229018,\n",
       " '323227': 9.29417463229018,\n",
       " '323353': 9.29417463229018,\n",
       " '323391': 8.601027451730232,\n",
       " '473020': 9.29417463229018,\n",
       " '324757': 8.888709524182016,\n",
       " '324522': 9.29417463229018,\n",
       " '323142': 8.888709524182016,\n",
       " '322256': 8.195562343622068,\n",
       " '471303': 8.888709524182016,\n",
       " '323091': 9.29417463229018,\n",
       " '324180': 9.29417463229018,\n",
       " '321898': 8.195562343622068,\n",
       " '322356': 8.888709524182016,\n",
       " '473828': 9.29417463229018,\n",
       " '324349': 8.601027451730232,\n",
       " '323942': 9.29417463229018,\n",
       " '322939': 8.888709524182016,\n",
       " '323588': 8.195562343622068,\n",
       " '472945': 8.888709524182016,\n",
       " '323345': 9.29417463229018,\n",
       " '324038': 9.29417463229018,\n",
       " '322725': 8.601027451730232,\n",
       " '323003': 9.29417463229018,\n",
       " '472439': 8.888709524182016,\n",
       " '323099': 9.29417463229018,\n",
       " '324076': 9.29417463229018,\n",
       " '323403': 8.377883900416023,\n",
       " '324464': 8.195562343622068,\n",
       " '324056': 8.601027451730232,\n",
       " '511386': 9.29417463229018,\n",
       " '5265': 8.888709524182016,\n",
       " '7109': 8.195562343622068,\n",
       " '7023': 9.29417463229018,\n",
       " '5583': 9.29417463229018,\n",
       " '5308': 9.29417463229018,\n",
       " '511608': 9.29417463229018,\n",
       " '2210': 8.377883900416023,\n",
       " '1936': 8.377883900416023,\n",
       " '1067': 8.601027451730232,\n",
       " '916': 9.29417463229018,\n",
       " '1132': 8.601027451730232,\n",
       " '324335': 8.195562343622068,\n",
       " '7882': 9.29417463229018,\n",
       " '6954': 8.888709524182016,\n",
       " '5534': 8.041411663794811,\n",
       " '7073': 8.601027451730232,\n",
       " '6203': 8.041411663794811,\n",
       " '486984': 9.29417463229018,\n",
       " '2643': 9.29417463229018,\n",
       " '1654': 8.601027451730232,\n",
       " '2424': 9.29417463229018,\n",
       " '2870': 9.29417463229018,\n",
       " '2039': 9.29417463229018,\n",
       " '323255': 9.29417463229018,\n",
       " '322634': 8.377883900416023,\n",
       " '324750': 8.601027451730232,\n",
       " '322623': 8.377883900416023,\n",
       " '322887': 9.29417463229018,\n",
       " '323862': 8.377883900416023,\n",
       " '2835': 9.29417463229018,\n",
       " '748': 8.601027451730232,\n",
       " '3257': 8.601027451730232,\n",
       " '1728': 8.888709524182016,\n",
       " '1155': 8.601027451730232,\n",
       " '1494': 8.888709524182016,\n",
       " '322386': 8.377883900416023,\n",
       " '322021': 9.29417463229018,\n",
       " '323657': 9.29417463229018,\n",
       " '322131': 8.377883900416023,\n",
       " '512745': 9.29417463229018,\n",
       " '6989': 8.601027451730232,\n",
       " '5232': 9.29417463229018,\n",
       " '6336': 8.888709524182016,\n",
       " '5823': 8.888709524182016,\n",
       " '513152': 8.377883900416023,\n",
       " '2587': 9.29417463229018,\n",
       " '2135': 8.601027451730232,\n",
       " '3226': 8.601027451730232,\n",
       " '1401': 8.377883900416023,\n",
       " '322595': 9.29417463229018,\n",
       " '323387': 8.888709524182016,\n",
       " '323686': 8.888709524182016,\n",
       " '323363': 8.888709524182016,\n",
       " '323507': 8.888709524182016,\n",
       " '322182': 9.29417463229018,\n",
       " '472628': 8.888709524182016,\n",
       " '322652': 8.601027451730232,\n",
       " '324717': 8.601027451730232,\n",
       " '324575': 9.29417463229018,\n",
       " '323818': 8.888709524182016,\n",
       " '324017': 8.888709524182016,\n",
       " '474220': 8.195562343622068,\n",
       " '322230': 8.888709524182016,\n",
       " '323952': 8.195562343622068,\n",
       " '323280': 8.888709524182016,\n",
       " '323836': 8.377883900416023,\n",
       " '472706': 9.29417463229018,\n",
       " '2253': 8.888709524182016,\n",
       " '3027': 8.377883900416023,\n",
       " '2339': 8.888709524182016,\n",
       " '3370': 8.888709524182016,\n",
       " '323230': 8.888709524182016,\n",
       " '7324': 8.888709524182016,\n",
       " '4973': 9.29417463229018,\n",
       " '7026': 8.888709524182016,\n",
       " '4897': 8.601027451730232,\n",
       " '5957': 9.29417463229018,\n",
       " '512682': 7.790097235513905,\n",
       " '323803': 9.29417463229018,\n",
       " '322384': 8.601027451730232,\n",
       " '324126': 9.29417463229018,\n",
       " '322303': 8.377883900416023,\n",
       " '324364': 8.888709524182016,\n",
       " '532160': 8.601027451730232,\n",
       " '6801': 8.601027451730232,\n",
       " '5168': 9.29417463229018,\n",
       " '6206': 8.888709524182016,\n",
       " '7464': 8.377883900416023,\n",
       " '513275': 8.888709524182016,\n",
       " '322584': 8.601027451730232,\n",
       " '323893': 8.888709524182016,\n",
       " '322615': 8.377883900416023,\n",
       " '324668': 8.888709524182016,\n",
       " '322627': 8.601027451730232,\n",
       " '473111': 8.601027451730232,\n",
       " '322442': 8.601027451730232,\n",
       " '322743': 8.377883900416023,\n",
       " '324014': 8.601027451730232,\n",
       " '324201': 8.377883900416023,\n",
       " '324634': 9.29417463229018,\n",
       " '472013': 8.888709524182016,\n",
       " '323524': 9.29417463229018,\n",
       " '322534': 8.601027451730232,\n",
       " '323505': 8.888709524182016,\n",
       " '322745': 8.888709524182016,\n",
       " '323049': 8.888709524182016,\n",
       " '472549': 8.888709524182016,\n",
       " '323970': 8.888709524182016,\n",
       " '322689': 8.377883900416023,\n",
       " '323089': 8.888709524182016,\n",
       " '530678': 8.377883900416023,\n",
       " '322345': 8.377883900416023,\n",
       " '322411': 8.377883900416023,\n",
       " '323744': 9.29417463229018,\n",
       " '324171': 8.601027451730232,\n",
       " '324205': 8.195562343622068,\n",
       " '473750': 9.29417463229018,\n",
       " '7582': 8.601027451730232,\n",
       " '6764': 9.29417463229018,\n",
       " '5020': 8.601027451730232,\n",
       " '6800': 8.601027451730232,\n",
       " '7728': 8.601027451730232,\n",
       " '486895': 8.601027451730232,\n",
       " '1350': 9.29417463229018,\n",
       " '2292': 8.041411663794811,\n",
       " '3238': 8.377883900416023,\n",
       " '2309': 8.377883900416023,\n",
       " '322752': 9.29417463229018,\n",
       " '322545': 8.601027451730232,\n",
       " '322077': 9.29417463229018,\n",
       " '324229': 8.601027451730232,\n",
       " '323352': 8.601027451730232,\n",
       " '2519': 8.888709524182016,\n",
       " '321960': 9.29417463229018,\n",
       " '324691': 8.888709524182016,\n",
       " '322219': 9.29417463229018,\n",
       " '324234': 8.888709524182016,\n",
       " '472873': 8.888709524182016,\n",
       " '294832': 9.29417463229018,\n",
       " '294743': 8.601027451730232,\n",
       " '294454': 9.29417463229018,\n",
       " '295173': 9.29417463229018,\n",
       " '2767': 9.29417463229018,\n",
       " '292958': 9.29417463229018,\n",
       " '293090': 8.377883900416023,\n",
       " '293534': 8.888709524182016,\n",
       " '614': 9.29417463229018,\n",
       " '322322': 8.601027451730232,\n",
       " '323917': 8.601027451730232,\n",
       " '531476': 8.888709524182016,\n",
       " '324027': 8.601027451730232,\n",
       " '323989': 9.29417463229018,\n",
       " '324381': 8.601027451730232,\n",
       " '323796': 8.888709524182016,\n",
       " '322079': 9.29417463229018,\n",
       " '2920': 9.29417463229018,\n",
       " '322375': 8.888709524182016,\n",
       " '321854': 8.377883900416023,\n",
       " '324242': 8.601027451730232,\n",
       " ...}"
      ]
     },
     "execution_count": 67,
     "metadata": {},
     "output_type": "execute_result"
    }
   ],
   "source": [
    "dict_idf"
   ]
  },
  {
   "cell_type": "code",
   "execution_count": 47,
   "metadata": {},
   "outputs": [],
   "source": [
    "import json\n",
    "from sklearn.feature_extraction.text import TfidfVectorizer"
   ]
  },
  {
   "cell_type": "code",
   "execution_count": null,
   "metadata": {},
   "outputs": [],
   "source": []
  },
  {
   "cell_type": "code",
   "execution_count": 70,
   "metadata": {},
   "outputs": [],
   "source": [
    "doc_dict = dict(zip(topic_matrix['doc_id'].values, topic_matrix[['topic_{}'.format(i) for i in range(25)]].values))"
   ]
  },
  {
   "cell_type": "code",
   "execution_count": 71,
   "metadata": {},
   "outputs": [
    {
     "data": {
      "text/plain": [
       "array([0.        , 0.05110345, 0.        , 0.        , 0.        ,\n",
       "       0.23240831, 0.09586335, 0.        , 0.07847876, 0.        ,\n",
       "       0.0215025 , 0.        , 0.        , 0.02062701, 0.        ,\n",
       "       0.        , 0.02445335, 0.06013548, 0.        , 0.        ,\n",
       "       0.1396648 , 0.0467137 , 0.        , 0.16118175, 0.05903034])"
      ]
     },
     "execution_count": 71,
     "metadata": {},
     "output_type": "execute_result"
    }
   ],
   "source": [
    "doc_dict[293622]"
   ]
  },
  {
   "cell_type": "code",
   "execution_count": 72,
   "metadata": {},
   "outputs": [],
   "source": [
    "user_articles_list = users['articles'].iloc[33]\n",
    "\n",
    "def get_user_embedding(user_articles_list):\n",
    "    user_articles_list = eval(user_articles_list)\n",
    "    user_vector = np.array([doc_dict[doc_id]*dict_idf.get(str(doc_id), 1) for doc_id in user_articles_list])\n",
    "    user_vector = np.mean(user_vector, 0)\n",
    "    return user_vector"
   ]
  },
  {
   "cell_type": "code",
   "execution_count": 73,
   "metadata": {},
   "outputs": [
    {
     "data": {
      "text/plain": [
       "array([0.88351822, 0.1356586 , 0.03797054, 0.08777157, 0.03084184,\n",
       "       1.3840301 , 0.04411842, 0.20666878, 0.04986349, 0.50671715,\n",
       "       0.08323283, 0.        , 0.11072368, 0.33269525, 0.19657696,\n",
       "       0.04412128, 0.18476913, 0.58368176, 0.44240405, 1.59875697,\n",
       "       0.24753179, 1.11491205, 0.        , 0.20284352, 0.08822165])"
      ]
     },
     "execution_count": 73,
     "metadata": {},
     "output_type": "execute_result"
    }
   ],
   "source": [
    "get_user_embedding(user_articles_list)"
   ]
  },
  {
   "cell_type": "markdown",
   "metadata": {},
   "source": [
    "Интересовался новостями с топиками topic_3, topic_14 (что-то про политику и государство)"
   ]
  },
  {
   "cell_type": "code",
   "execution_count": 25,
   "metadata": {},
   "outputs": [],
   "source": [
    "users['articles'].iloc[33]"
   ]
  },
  {
   "cell_type": "code",
   "execution_count": 26,
   "metadata": {
    "scrolled": true
   },
   "outputs": [],
   "source": [
    "#\" \".join(news[news['doc_id']==323186]['title'].iloc[0])"
   ]
  },
  {
   "cell_type": "markdown",
   "metadata": {},
   "source": [
    "Теперь получим эмбединги для всех пользователей и проверим их качество на конкретной downstream-задаче"
   ]
  },
  {
   "cell_type": "code",
   "execution_count": 27,
   "metadata": {},
   "outputs": [
    {
     "data": {
      "text/html": [
       "<div>\n",
       "<style scoped>\n",
       "    .dataframe tbody tr th:only-of-type {\n",
       "        vertical-align: middle;\n",
       "    }\n",
       "\n",
       "    .dataframe tbody tr th {\n",
       "        vertical-align: top;\n",
       "    }\n",
       "\n",
       "    .dataframe thead th {\n",
       "        text-align: right;\n",
       "    }\n",
       "</style>\n",
       "<table border=\"1\" class=\"dataframe\">\n",
       "  <thead>\n",
       "    <tr style=\"text-align: right;\">\n",
       "      <th></th>\n",
       "      <th>uid</th>\n",
       "      <th>topic_0</th>\n",
       "      <th>topic_1</th>\n",
       "      <th>topic_2</th>\n",
       "      <th>topic_3</th>\n",
       "      <th>topic_4</th>\n",
       "      <th>topic_5</th>\n",
       "      <th>topic_6</th>\n",
       "      <th>topic_7</th>\n",
       "      <th>topic_8</th>\n",
       "      <th>...</th>\n",
       "      <th>topic_15</th>\n",
       "      <th>topic_16</th>\n",
       "      <th>topic_17</th>\n",
       "      <th>topic_18</th>\n",
       "      <th>topic_19</th>\n",
       "      <th>topic_20</th>\n",
       "      <th>topic_21</th>\n",
       "      <th>topic_22</th>\n",
       "      <th>topic_23</th>\n",
       "      <th>topic_24</th>\n",
       "    </tr>\n",
       "  </thead>\n",
       "  <tbody>\n",
       "    <tr>\n",
       "      <th>0</th>\n",
       "      <td>u105138</td>\n",
       "      <td>0.151354</td>\n",
       "      <td>0.052010</td>\n",
       "      <td>0.012509</td>\n",
       "      <td>0.000000</td>\n",
       "      <td>0.079611</td>\n",
       "      <td>0.0</td>\n",
       "      <td>0.000000</td>\n",
       "      <td>0.070245</td>\n",
       "      <td>0.014170</td>\n",
       "      <td>...</td>\n",
       "      <td>0.054249</td>\n",
       "      <td>0.017630</td>\n",
       "      <td>0.008108</td>\n",
       "      <td>0.011332</td>\n",
       "      <td>0.051828</td>\n",
       "      <td>0.015910</td>\n",
       "      <td>0.041836</td>\n",
       "      <td>0.202489</td>\n",
       "      <td>0.005205</td>\n",
       "      <td>0.0</td>\n",
       "    </tr>\n",
       "    <tr>\n",
       "      <th>1</th>\n",
       "      <td>u108690</td>\n",
       "      <td>0.072993</td>\n",
       "      <td>0.086369</td>\n",
       "      <td>0.004202</td>\n",
       "      <td>0.006746</td>\n",
       "      <td>0.077308</td>\n",
       "      <td>0.0</td>\n",
       "      <td>0.013019</td>\n",
       "      <td>0.010664</td>\n",
       "      <td>0.009110</td>\n",
       "      <td>...</td>\n",
       "      <td>0.010646</td>\n",
       "      <td>0.000000</td>\n",
       "      <td>0.000000</td>\n",
       "      <td>0.002922</td>\n",
       "      <td>0.111593</td>\n",
       "      <td>0.012584</td>\n",
       "      <td>0.015062</td>\n",
       "      <td>0.169617</td>\n",
       "      <td>0.002443</td>\n",
       "      <td>0.0</td>\n",
       "    </tr>\n",
       "    <tr>\n",
       "      <th>2</th>\n",
       "      <td>u108339</td>\n",
       "      <td>0.079470</td>\n",
       "      <td>0.072070</td>\n",
       "      <td>0.000000</td>\n",
       "      <td>0.000000</td>\n",
       "      <td>0.069316</td>\n",
       "      <td>0.0</td>\n",
       "      <td>0.010668</td>\n",
       "      <td>0.038383</td>\n",
       "      <td>0.009718</td>\n",
       "      <td>...</td>\n",
       "      <td>0.011794</td>\n",
       "      <td>0.019583</td>\n",
       "      <td>0.005999</td>\n",
       "      <td>0.002028</td>\n",
       "      <td>0.037505</td>\n",
       "      <td>0.033862</td>\n",
       "      <td>0.075867</td>\n",
       "      <td>0.136277</td>\n",
       "      <td>0.015691</td>\n",
       "      <td>0.0</td>\n",
       "    </tr>\n",
       "  </tbody>\n",
       "</table>\n",
       "<p>3 rows × 26 columns</p>\n",
       "</div>"
      ],
      "text/plain": [
       "       uid   topic_0   topic_1   topic_2   topic_3   topic_4  topic_5  \\\n",
       "0  u105138  0.151354  0.052010  0.012509  0.000000  0.079611      0.0   \n",
       "1  u108690  0.072993  0.086369  0.004202  0.006746  0.077308      0.0   \n",
       "2  u108339  0.079470  0.072070  0.000000  0.000000  0.069316      0.0   \n",
       "\n",
       "    topic_6   topic_7   topic_8  ...  topic_15  topic_16  topic_17  topic_18  \\\n",
       "0  0.000000  0.070245  0.014170  ...  0.054249  0.017630  0.008108  0.011332   \n",
       "1  0.013019  0.010664  0.009110  ...  0.010646  0.000000  0.000000  0.002922   \n",
       "2  0.010668  0.038383  0.009718  ...  0.011794  0.019583  0.005999  0.002028   \n",
       "\n",
       "   topic_19  topic_20  topic_21  topic_22  topic_23  topic_24  \n",
       "0  0.051828  0.015910  0.041836  0.202489  0.005205       0.0  \n",
       "1  0.111593  0.012584  0.015062  0.169617  0.002443       0.0  \n",
       "2  0.037505  0.033862  0.075867  0.136277  0.015691       0.0  \n",
       "\n",
       "[3 rows x 26 columns]"
      ]
     },
     "execution_count": 27,
     "metadata": {},
     "output_type": "execute_result"
    }
   ],
   "source": [
    "user_embeddings = pd.DataFrame([i for i in users['articles'].apply(lambda x: get_user_embedding(x), 1)])\n",
    "user_embeddings.columns = ['topic_{}'.format(i) for i in range(25)]\n",
    "user_embeddings['uid'] = users['uid'].values\n",
    "user_embeddings = user_embeddings[['uid']+['topic_{}'.format(i) for i in range(25)]]\n",
    "user_embeddings.head(3)"
   ]
  },
  {
   "cell_type": "markdown",
   "metadata": {},
   "source": [
    "Датасет готов - можно попробовать обучить модель. Загрузим нашу разметку"
   ]
  },
  {
   "cell_type": "code",
   "execution_count": 28,
   "metadata": {},
   "outputs": [
    {
     "data": {
      "text/html": [
       "<div>\n",
       "<style scoped>\n",
       "    .dataframe tbody tr th:only-of-type {\n",
       "        vertical-align: middle;\n",
       "    }\n",
       "\n",
       "    .dataframe tbody tr th {\n",
       "        vertical-align: top;\n",
       "    }\n",
       "\n",
       "    .dataframe thead th {\n",
       "        text-align: right;\n",
       "    }\n",
       "</style>\n",
       "<table border=\"1\" class=\"dataframe\">\n",
       "  <thead>\n",
       "    <tr style=\"text-align: right;\">\n",
       "      <th></th>\n",
       "      <th>uid</th>\n",
       "      <th>churn</th>\n",
       "    </tr>\n",
       "  </thead>\n",
       "  <tbody>\n",
       "    <tr>\n",
       "      <th>0</th>\n",
       "      <td>u107120</td>\n",
       "      <td>0</td>\n",
       "    </tr>\n",
       "    <tr>\n",
       "      <th>1</th>\n",
       "      <td>u102277</td>\n",
       "      <td>0</td>\n",
       "    </tr>\n",
       "    <tr>\n",
       "      <th>2</th>\n",
       "      <td>u102444</td>\n",
       "      <td>0</td>\n",
       "    </tr>\n",
       "  </tbody>\n",
       "</table>\n",
       "</div>"
      ],
      "text/plain": [
       "       uid  churn\n",
       "0  u107120      0\n",
       "1  u102277      0\n",
       "2  u102444      0"
      ]
     },
     "execution_count": 28,
     "metadata": {},
     "output_type": "execute_result"
    }
   ],
   "source": [
    "target = pd.read_csv(\"users_churn.csv\")\n",
    "target.head(3)"
   ]
  },
  {
   "cell_type": "code",
   "execution_count": 29,
   "metadata": {},
   "outputs": [
    {
     "data": {
      "text/html": [
       "<div>\n",
       "<style scoped>\n",
       "    .dataframe tbody tr th:only-of-type {\n",
       "        vertical-align: middle;\n",
       "    }\n",
       "\n",
       "    .dataframe tbody tr th {\n",
       "        vertical-align: top;\n",
       "    }\n",
       "\n",
       "    .dataframe thead th {\n",
       "        text-align: right;\n",
       "    }\n",
       "</style>\n",
       "<table border=\"1\" class=\"dataframe\">\n",
       "  <thead>\n",
       "    <tr style=\"text-align: right;\">\n",
       "      <th></th>\n",
       "      <th>uid</th>\n",
       "      <th>topic_0</th>\n",
       "      <th>topic_1</th>\n",
       "      <th>topic_2</th>\n",
       "      <th>topic_3</th>\n",
       "      <th>topic_4</th>\n",
       "      <th>topic_5</th>\n",
       "      <th>topic_6</th>\n",
       "      <th>topic_7</th>\n",
       "      <th>topic_8</th>\n",
       "      <th>...</th>\n",
       "      <th>topic_16</th>\n",
       "      <th>topic_17</th>\n",
       "      <th>topic_18</th>\n",
       "      <th>topic_19</th>\n",
       "      <th>topic_20</th>\n",
       "      <th>topic_21</th>\n",
       "      <th>topic_22</th>\n",
       "      <th>topic_23</th>\n",
       "      <th>topic_24</th>\n",
       "      <th>churn</th>\n",
       "    </tr>\n",
       "  </thead>\n",
       "  <tbody>\n",
       "    <tr>\n",
       "      <th>0</th>\n",
       "      <td>u105138</td>\n",
       "      <td>0.151354</td>\n",
       "      <td>0.052010</td>\n",
       "      <td>0.012509</td>\n",
       "      <td>0.000000</td>\n",
       "      <td>0.079611</td>\n",
       "      <td>0.0</td>\n",
       "      <td>0.000000</td>\n",
       "      <td>0.070245</td>\n",
       "      <td>0.014170</td>\n",
       "      <td>...</td>\n",
       "      <td>0.017630</td>\n",
       "      <td>0.008108</td>\n",
       "      <td>0.011332</td>\n",
       "      <td>0.051828</td>\n",
       "      <td>0.015910</td>\n",
       "      <td>0.041836</td>\n",
       "      <td>0.202489</td>\n",
       "      <td>0.005205</td>\n",
       "      <td>0.0</td>\n",
       "      <td>0</td>\n",
       "    </tr>\n",
       "    <tr>\n",
       "      <th>1</th>\n",
       "      <td>u108690</td>\n",
       "      <td>0.072993</td>\n",
       "      <td>0.086369</td>\n",
       "      <td>0.004202</td>\n",
       "      <td>0.006746</td>\n",
       "      <td>0.077308</td>\n",
       "      <td>0.0</td>\n",
       "      <td>0.013019</td>\n",
       "      <td>0.010664</td>\n",
       "      <td>0.009110</td>\n",
       "      <td>...</td>\n",
       "      <td>0.000000</td>\n",
       "      <td>0.000000</td>\n",
       "      <td>0.002922</td>\n",
       "      <td>0.111593</td>\n",
       "      <td>0.012584</td>\n",
       "      <td>0.015062</td>\n",
       "      <td>0.169617</td>\n",
       "      <td>0.002443</td>\n",
       "      <td>0.0</td>\n",
       "      <td>1</td>\n",
       "    </tr>\n",
       "    <tr>\n",
       "      <th>2</th>\n",
       "      <td>u108339</td>\n",
       "      <td>0.079470</td>\n",
       "      <td>0.072070</td>\n",
       "      <td>0.000000</td>\n",
       "      <td>0.000000</td>\n",
       "      <td>0.069316</td>\n",
       "      <td>0.0</td>\n",
       "      <td>0.010668</td>\n",
       "      <td>0.038383</td>\n",
       "      <td>0.009718</td>\n",
       "      <td>...</td>\n",
       "      <td>0.019583</td>\n",
       "      <td>0.005999</td>\n",
       "      <td>0.002028</td>\n",
       "      <td>0.037505</td>\n",
       "      <td>0.033862</td>\n",
       "      <td>0.075867</td>\n",
       "      <td>0.136277</td>\n",
       "      <td>0.015691</td>\n",
       "      <td>0.0</td>\n",
       "      <td>1</td>\n",
       "    </tr>\n",
       "  </tbody>\n",
       "</table>\n",
       "<p>3 rows × 27 columns</p>\n",
       "</div>"
      ],
      "text/plain": [
       "       uid   topic_0   topic_1   topic_2   topic_3   topic_4  topic_5  \\\n",
       "0  u105138  0.151354  0.052010  0.012509  0.000000  0.079611      0.0   \n",
       "1  u108690  0.072993  0.086369  0.004202  0.006746  0.077308      0.0   \n",
       "2  u108339  0.079470  0.072070  0.000000  0.000000  0.069316      0.0   \n",
       "\n",
       "    topic_6   topic_7   topic_8  ...  topic_16  topic_17  topic_18  topic_19  \\\n",
       "0  0.000000  0.070245  0.014170  ...  0.017630  0.008108  0.011332  0.051828   \n",
       "1  0.013019  0.010664  0.009110  ...  0.000000  0.000000  0.002922  0.111593   \n",
       "2  0.010668  0.038383  0.009718  ...  0.019583  0.005999  0.002028  0.037505   \n",
       "\n",
       "   topic_20  topic_21  topic_22  topic_23  topic_24  churn  \n",
       "0  0.015910  0.041836  0.202489  0.005205       0.0      0  \n",
       "1  0.012584  0.015062  0.169617  0.002443       0.0      1  \n",
       "2  0.033862  0.075867  0.136277  0.015691       0.0      1  \n",
       "\n",
       "[3 rows x 27 columns]"
      ]
     },
     "execution_count": 29,
     "metadata": {},
     "output_type": "execute_result"
    }
   ],
   "source": [
    "X = pd.merge(user_embeddings, target, 'left')\n",
    "X.head(3)"
   ]
  },
  {
   "cell_type": "code",
   "execution_count": 30,
   "metadata": {},
   "outputs": [],
   "source": [
    "from sklearn.linear_model import LogisticRegression\n",
    "from sklearn.model_selection import train_test_split\n",
    "#import itertools\n",
    "\n",
    "import matplotlib.pyplot as plt\n",
    "\n",
    "%matplotlib inline"
   ]
  },
  {
   "cell_type": "code",
   "execution_count": 31,
   "metadata": {},
   "outputs": [],
   "source": [
    "#разделим данные на train/test\n",
    "X_train, X_test, y_train, y_test = train_test_split(X[['topic_{}'.format(i) for i in range(25)]], \n",
    "                                                    X['churn'], random_state=0)"
   ]
  },
  {
   "cell_type": "code",
   "execution_count": 32,
   "metadata": {},
   "outputs": [
    {
     "data": {
      "text/plain": [
       "LogisticRegression()"
      ]
     },
     "execution_count": 32,
     "metadata": {},
     "output_type": "execute_result"
    }
   ],
   "source": [
    "logreg = LogisticRegression()\n",
    "#обучим \n",
    "logreg.fit(X_train, y_train)"
   ]
  },
  {
   "cell_type": "code",
   "execution_count": 33,
   "metadata": {},
   "outputs": [
    {
     "data": {
      "text/plain": [
       "array([0.14708429, 0.10265129, 0.34162998, 0.18448303, 0.04557348,\n",
       "       0.08705948, 0.13924926, 0.03423799, 0.21623296, 0.16034288])"
      ]
     },
     "execution_count": 33,
     "metadata": {},
     "output_type": "execute_result"
    }
   ],
   "source": [
    "#наши прогнозы для тестовой выборки\n",
    "preds = logreg.predict_proba(X_test)[:, 1]\n",
    "preds[:10]"
   ]
  },
  {
   "cell_type": "code",
   "execution_count": 34,
   "metadata": {},
   "outputs": [],
   "source": [
    "from sklearn.metrics import f1_score, roc_auc_score, precision_score, classification_report, precision_recall_curve, confusion_matrix"
   ]
  },
  {
   "cell_type": "markdown",
   "metadata": {},
   "source": [
    "### Рассчитаем Precision, Recall, F_score"
   ]
  },
  {
   "cell_type": "code",
   "execution_count": 35,
   "metadata": {},
   "outputs": [],
   "source": [
    "import itertools"
   ]
  },
  {
   "cell_type": "code",
   "execution_count": 36,
   "metadata": {},
   "outputs": [
    {
     "name": "stdout",
     "output_type": "stream",
     "text": [
      "Best Threshold=0.241193, F-Score=0.661, Precision=0.646, Recall=0.678\n"
     ]
    }
   ],
   "source": [
    "precision, recall, thresholds = precision_recall_curve(y_test, preds)\n",
    "fscore = (2 * precision * recall) / (precision + recall)\n",
    "# locate the index of the largest f score\n",
    "ix = np.argmax(fscore)\n",
    "print('Best Threshold=%f, F-Score=%.3f, Precision=%.3f, Recall=%.3f' % (thresholds[ix], \n",
    "                                                                        fscore[ix],\n",
    "                                                                        precision[ix],\n",
    "                                                                        recall[ix]))"
   ]
  },
  {
   "cell_type": "code",
   "execution_count": 37,
   "metadata": {},
   "outputs": [],
   "source": [
    "def plot_confusion_matrix(cm, classes,\n",
    "                          normalize=False,\n",
    "                          title='Confusion matrix',\n",
    "                          cmap=plt.cm.Blues):\n",
    "    \"\"\"\n",
    "    This function prints and plots the confusion matrix.\n",
    "    Normalization can be applied by setting `normalize=True`.\n",
    "    \"\"\"\n",
    "    plt.imshow(cm, interpolation='nearest', cmap=cmap)\n",
    "    plt.title(title)\n",
    "    plt.colorbar()\n",
    "    tick_marks = np.arange(len(classes))\n",
    "    plt.xticks(tick_marks, classes, rotation=45)\n",
    "    plt.yticks(tick_marks, classes)\n",
    "\n",
    "    if normalize:\n",
    "        cm = cm.astype('float') / cm.sum(axis=1)[:, np.newaxis]\n",
    "        print(\"Normalized confusion matrix\")\n",
    "    else:\n",
    "        print('Confusion matrix, without normalization')\n",
    "\n",
    "    print(cm)\n",
    "\n",
    "    thresh = cm.max() / 2.\n",
    "    for i, j in itertools.product(range(cm.shape[0]), range(cm.shape[1])):\n",
    "        plt.text(j, i, cm[i, j],\n",
    "                 horizontalalignment=\"center\",\n",
    "                 color=\"white\" if cm[i, j] > thresh else \"black\")\n",
    "\n",
    "    plt.tight_layout()\n",
    "    plt.ylabel('True label')\n",
    "    plt.xlabel('Predicted label')"
   ]
  },
  {
   "cell_type": "code",
   "execution_count": 38,
   "metadata": {},
   "outputs": [
    {
     "name": "stdout",
     "output_type": "stream",
     "text": [
      "Confusion matrix, without normalization\n",
      "[[1664   91]\n",
      " [  80  165]]\n"
     ]
    },
    {
     "data": {
      "image/png": "[encoded data removed]",
      "text/plain": [
       "<Figure size 720x576 with 2 Axes>"
      ]
     },
     "metadata": {
      "needs_background": "light"
     },
     "output_type": "display_data"
    }
   ],
   "source": [
    "#мы уже нашли ранее \"оптимальный\" порог, когда максимизировали f_score\n",
    "font = {'size' : 15}\n",
    "\n",
    "plt.rc('font', **font)\n",
    "\n",
    "cnf_matrix = confusion_matrix(y_test, preds>thresholds[ix])\n",
    "plt.figure(figsize=(10, 8))\n",
    "plot_confusion_matrix(cnf_matrix, classes=['Non-Churn', 'churn'],\n",
    "                      title='Confusion matrix')\n",
    "plt.savefig(\"conf_matrix.png\")\n",
    "plt.show()"
   ]
  },
  {
   "cell_type": "code",
   "execution_count": 39,
   "metadata": {},
   "outputs": [
    {
     "data": {
      "text/plain": [
       "0.9428245828245828"
      ]
     },
     "execution_count": 39,
     "metadata": {},
     "output_type": "execute_result"
    }
   ],
   "source": [
    "roc_auc_score(y_test, preds)"
   ]
  },
  {
   "cell_type": "markdown",
   "metadata": {},
   "source": [
    "В целом мы видим, что получившиеся векторные представления содержат какой-то сигнал и позволяют решать нашу прикладную задачу. "
   ]
  },
  {
   "cell_type": "markdown",
   "metadata": {},
   "source": [
    "### Домашнее задание"
   ]
  },
  {
   "cell_type": "markdown",
   "metadata": {},
   "source": [
    "1. Самостоятельно разобраться с тем, что такое tfidf (документация https://scikit-learn.org/stable/modules/generated/sklearn.feature_extraction.text.TfidfVectorizer.html и еще - https://scikit-learn.org/stable/modules/feature_extraction.html#text-feature-extraction)\n",
    "2. Модифицировать код функции get_user_embedding таким образом, чтобы считалось не среднее (как в примере np.mean), а медиана. Применить такое преобразование к данным, обучить модель прогнозирования оттока и посчитать метрики качества и сохранить их: roc auc, precision/recall/f_score (для 3 последних - подобрать оптимальный порог с помощью precision_recall_curve, как это делалось на уроке)\n",
    "3. Повторить п.2, но используя уже не медиану, а max\n",
    "4. (опциональное, если очень хочется) Воспользовавшись полученными знаниями из п.1, повторить пункт 2, но уже взвешивая новости по tfidf (подсказка: нужно получить веса-коэффициенты для каждого документа. Не все документы одинаково информативны и несут какой-то положительный сигнал). Подсказка 2 - нужен именно idf, как вес.\n",
    "5. Сформировать на выходе единую таблицу, сравнивающую качество 3 разных метода получения эмбедингов пользователей: mean, median, max, idf_mean по метрикам roc_auc, precision, recall, f_score\n",
    "6. Сделать самостоятельные выводы и предположения о том, почему тот или ной способ оказался эффективнее остальных"
   ]
  },
  {
   "cell_type": "markdown",
   "metadata": {},
   "source": [
    "#### Ссылки"
   ]
  },
  {
   "cell_type": "markdown",
   "metadata": {},
   "source": [
    "1. http://www.machinelearning.ru/wiki/images/d/d5/Voron17survey-artm.pdf\n",
    "2. https://en.wikipedia.org/wiki/Latent_Dirichlet_allocation"
   ]
  },
  {
   "cell_type": "markdown",
   "metadata": {},
   "source": [
    "#### Библиотеки, которые нужно установить:\n",
    "\n",
    "1. gensim\n",
    "2. razdel\n",
    "3. pymorphy2\n",
    "4. nltk\n",
    "\n",
    "#### Дополнительно, библиотеки для анализа текста\n",
    "1. spacy \n",
    "2. natasha\n",
    "3. nltk"
   ]
  },
  {
   "cell_type": "code",
   "execution_count": null,
   "metadata": {},
   "outputs": [],
   "source": []
  }
 ],
 "metadata": {
  "kernelspec": {
   "display_name": "Python 3",
   "language": "python",
   "name": "python3"
  },
  "language_info": {
   "codemirror_mode": {
    "name": "ipython",
    "version": 3
   },
   "file_extension": ".py",
   "mimetype": "text/x-python",
   "name": "python",
   "nbconvert_exporter": "python",
   "pygments_lexer": "ipython3",
   "version": "3.8.3"
  }
 },
 "nbformat": 4,
 "nbformat_minor": 2
}
