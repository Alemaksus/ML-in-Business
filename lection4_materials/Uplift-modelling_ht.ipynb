{
 "cells": [
  {
   "cell_type": "markdown",
   "metadata": {},
   "source": [
    "#### 1. скачать набор данных маркетинговых кампаний отсюда https://www.kaggle.com/davinwijaya/customer-retention"
   ]
  },
  {
   "cell_type": "code",
   "execution_count": 32,
   "metadata": {},
   "outputs": [
    {
     "name": "stdout",
     "output_type": "stream",
     "text": [
      "Requirement already satisfied: scikit-uplift==0.2.0 in c:\\users\\alexa\\anaconda3\\lib\\site-packages (0.2.0)\n",
      "Requirement already satisfied: matplotlib in c:\\users\\alexa\\anaconda3\\lib\\site-packages (from scikit-uplift==0.2.0) (3.3.2)\n",
      "Requirement already satisfied: scikit-learn>=0.21.0 in c:\\users\\alexa\\anaconda3\\lib\\site-packages (from scikit-uplift==0.2.0) (0.23.2)\n",
      "Requirement already satisfied: pandas in c:\\users\\alexa\\anaconda3\\lib\\site-packages (from scikit-uplift==0.2.0) (1.1.3)\n",
      "Requirement already satisfied: numpy>=1.16 in c:\\users\\alexa\\anaconda3\\lib\\site-packages (from scikit-uplift==0.2.0) (1.19.2)\n",
      "Requirement already satisfied: kiwisolver>=1.0.1 in c:\\users\\alexa\\anaconda3\\lib\\site-packages (from matplotlib->scikit-uplift==0.2.0) (1.3.0)\n",
      "Requirement already satisfied: pillow>=6.2.0 in c:\\users\\alexa\\anaconda3\\lib\\site-packages (from matplotlib->scikit-uplift==0.2.0) (8.0.1)\n",
      "Requirement already satisfied: cycler>=0.10 in c:\\users\\alexa\\anaconda3\\lib\\site-packages (from matplotlib->scikit-uplift==0.2.0) (0.10.0)\n",
      "Requirement already satisfied: pyparsing!=2.0.4,!=2.1.2,!=2.1.6,>=2.0.3 in c:\\users\\alexa\\anaconda3\\lib\\site-packages (from matplotlib->scikit-uplift==0.2.0) (2.4.7)\n",
      "Requirement already satisfied: certifi>=2020.06.20 in c:\\users\\alexa\\anaconda3\\lib\\site-packages (from matplotlib->scikit-uplift==0.2.0) (2020.6.20)\n",
      "Requirement already satisfied: python-dateutil>=2.1 in c:\\users\\alexa\\anaconda3\\lib\\site-packages (from matplotlib->scikit-uplift==0.2.0) (2.8.1)\n",
      "Requirement already satisfied: scipy>=0.19.1 in c:\\users\\alexa\\anaconda3\\lib\\site-packages (from scikit-learn>=0.21.0->scikit-uplift==0.2.0) (1.4.1)\n",
      "Requirement already satisfied: threadpoolctl>=2.0.0 in c:\\users\\alexa\\anaconda3\\lib\\site-packages (from scikit-learn>=0.21.0->scikit-uplift==0.2.0) (2.1.0)\n",
      "Requirement already satisfied: joblib>=0.11 in c:\\users\\alexa\\anaconda3\\lib\\site-packages (from scikit-learn>=0.21.0->scikit-uplift==0.2.0) (0.17.0)\n",
      "Requirement already satisfied: pytz>=2017.2 in c:\\users\\alexa\\anaconda3\\lib\\site-packages (from pandas->scikit-uplift==0.2.0) (2020.1)\n",
      "Requirement already satisfied: six in c:\\users\\alexa\\anaconda3\\lib\\site-packages (from cycler>=0.10->matplotlib->scikit-uplift==0.2.0) (1.15.0)\n",
      "Collecting causalml\n",
      "  Downloading causalml-0.12.0.tar.gz (401 kB)\n",
      "Requirement already satisfied: setuptools>=41.0.0 in c:\\users\\alexa\\anaconda3\\lib\\site-packages (from causalml) (50.3.1.post20201107)\n",
      "Requirement already satisfied: pip>=10.0 in c:\\users\\alexa\\anaconda3\\lib\\site-packages (from causalml) (20.2.4)\n",
      "Requirement already satisfied: numpy>=1.18.5 in c:\\users\\alexa\\anaconda3\\lib\\site-packages (from causalml) (1.19.2)\n",
      "Requirement already satisfied: scipy==1.4.1 in c:\\users\\alexa\\anaconda3\\lib\\site-packages (from causalml) (1.4.1)\n",
      "Requirement already satisfied: matplotlib in c:\\users\\alexa\\anaconda3\\lib\\site-packages (from causalml) (3.3.2)\n",
      "Requirement already satisfied: pandas>=0.24.1 in c:\\users\\alexa\\anaconda3\\lib\\site-packages (from causalml) (1.1.3)\n",
      "Requirement already satisfied: scikit-learn>=0.22.0 in c:\\users\\alexa\\anaconda3\\lib\\site-packages (from causalml) (0.23.2)\n",
      "Requirement already satisfied: statsmodels>=0.9.0 in c:\\users\\alexa\\anaconda3\\lib\\site-packages (from causalml) (0.12.0)\n",
      "Requirement already satisfied: seaborn in c:\\users\\alexa\\anaconda3\\lib\\site-packages (from causalml) (0.11.0)\n",
      "Requirement already satisfied: Cython>=0.28.0 in c:\\users\\alexa\\anaconda3\\lib\\site-packages (from causalml) (0.29.23)\n",
      "Collecting xgboost\n",
      "  Using cached xgboost-1.5.2-py3-none-win_amd64.whl (106.6 MB)\n",
      "Processing c:\\users\\alexa\\appdata\\local\\pip\\cache\\wheels\\fe\\cd\\78\\a7e873cc049759194f8271f780640cf96b35e5a48bef0e2f36\\pydotplus-2.0.2-py3-none-any.whl\n",
      "Requirement already satisfied: tqdm in c:\\users\\alexa\\anaconda3\\lib\\site-packages (from causalml) (4.50.2)\n",
      "Collecting shap<0.38.1\n",
      "  Using cached shap-0.37.0-cp38-cp38-win_amd64.whl (377 kB)\n",
      "Collecting dill\n",
      "  Using cached dill-0.3.4-py2.py3-none-any.whl (86 kB)\n",
      "Requirement already satisfied: lightgbm in c:\\users\\alexa\\anaconda3\\lib\\site-packages (from causalml) (3.1.1)\n",
      "Collecting pygam\n",
      "  Using cached pygam-0.8.0-py2.py3-none-any.whl (1.8 MB)\n",
      "Requirement already satisfied: packaging in c:\\users\\alexa\\anaconda3\\lib\\site-packages (from causalml) (20.4)\n",
      "Collecting torch\n",
      "  Using cached torch-1.10.1-cp38-cp38-win_amd64.whl (226.6 MB)\n",
      "Collecting pyro-ppl\n",
      "  Using cached pyro_ppl-1.8.0-py3-none-any.whl (713 kB)\n",
      "Requirement already satisfied: graphviz in c:\\users\\alexa\\anaconda3\\lib\\site-packages (from causalml) (0.16)\n",
      "Requirement already satisfied: certifi>=2020.06.20 in c:\\users\\alexa\\anaconda3\\lib\\site-packages (from matplotlib->causalml) (2020.6.20)\n",
      "Requirement already satisfied: kiwisolver>=1.0.1 in c:\\users\\alexa\\anaconda3\\lib\\site-packages (from matplotlib->causalml) (1.3.0)\n",
      "Requirement already satisfied: python-dateutil>=2.1 in c:\\users\\alexa\\anaconda3\\lib\\site-packages (from matplotlib->causalml) (2.8.1)\n",
      "Requirement already satisfied: cycler>=0.10 in c:\\users\\alexa\\anaconda3\\lib\\site-packages (from matplotlib->causalml) (0.10.0)\n",
      "Requirement already satisfied: pillow>=6.2.0 in c:\\users\\alexa\\anaconda3\\lib\\site-packages (from matplotlib->causalml) (8.0.1)\n",
      "Requirement already satisfied: pyparsing!=2.0.4,!=2.1.2,!=2.1.6,>=2.0.3 in c:\\users\\alexa\\anaconda3\\lib\\site-packages (from matplotlib->causalml) (2.4.7)\n",
      "Requirement already satisfied: pytz>=2017.2 in c:\\users\\alexa\\anaconda3\\lib\\site-packages (from pandas>=0.24.1->causalml) (2020.1)\n",
      "Requirement already satisfied: threadpoolctl>=2.0.0 in c:\\users\\alexa\\anaconda3\\lib\\site-packages (from scikit-learn>=0.22.0->causalml) (2.1.0)\n",
      "Requirement already satisfied: joblib>=0.11 in c:\\users\\alexa\\anaconda3\\lib\\site-packages (from scikit-learn>=0.22.0->causalml) (0.17.0)\n",
      "Requirement already satisfied: patsy>=0.5 in c:\\users\\alexa\\anaconda3\\lib\\site-packages (from statsmodels>=0.9.0->causalml) (0.5.1)\n",
      "Collecting slicer==0.0.3\n",
      "  Using cached slicer-0.0.3-py3-none-any.whl (11 kB)\n",
      "Requirement already satisfied: numba in c:\\users\\alexa\\anaconda3\\lib\\site-packages (from shap<0.38.1->causalml) (0.51.2)\n",
      "Requirement already satisfied: wheel in c:\\users\\alexa\\anaconda3\\lib\\site-packages (from lightgbm->causalml) (0.35.1)\n",
      "Collecting progressbar2\n",
      "  Using cached progressbar2-4.0.0-py2.py3-none-any.whl (26 kB)\n",
      "Requirement already satisfied: future in c:\\users\\alexa\\anaconda3\\lib\\site-packages (from pygam->causalml) (0.18.2)\n",
      "Requirement already satisfied: six in c:\\users\\alexa\\anaconda3\\lib\\site-packages (from packaging->causalml) (1.15.0)\n",
      "Requirement already satisfied: typing-extensions in c:\\users\\alexa\\anaconda3\\lib\\site-packages (from torch->causalml) (3.7.4.3)\n",
      "Collecting pyro-api>=0.1.1\n",
      "  Using cached pyro_api-0.1.2-py3-none-any.whl (11 kB)\n",
      "Collecting opt-einsum>=2.3.2\n",
      "  Using cached opt_einsum-3.3.0-py3-none-any.whl (65 kB)\n",
      "Requirement already satisfied: llvmlite<0.35,>=0.34.0.dev0 in c:\\users\\alexa\\anaconda3\\lib\\site-packages (from numba->shap<0.38.1->causalml) (0.34.0)\n",
      "Collecting python-utils>=3.0.0\n",
      "  Using cached python_utils-3.1.0-py2.py3-none-any.whl (19 kB)\n",
      "Building wheels for collected packages: causalml\n",
      "  Building wheel for causalml (setup.py): started\n",
      "  Building wheel for causalml (setup.py): finished with status 'error'\n",
      "  Running setup.py clean for causalml\n",
      "Failed to build causalml\n",
      "Installing collected packages: xgboost, pydotplus, slicer, shap, dill, python-utils, progressbar2, pygam, torch, pyro-api, opt-einsum, pyro-ppl, causalml\n",
      "    Running setup.py install for causalml: started\n",
      "    Running setup.py install for causalml: finished with status 'error'\n"
     ]
    },
    {
     "name": "stderr",
     "output_type": "stream",
     "text": [
      "  ERROR: Command errored out with exit status 1:\n",
      "   command: 'C:\\Users\\alexa\\anaconda3\\python.exe' -u -c 'import sys, setuptools, tokenize; sys.argv[0] = '\"'\"'C:\\\\Users\\\\alexa\\\\AppData\\\\Local\\\\Temp\\\\pip-install-r9b3u_oi\\\\causalml\\\\setup.py'\"'\"'; __file__='\"'\"'C:\\\\Users\\\\alexa\\\\AppData\\\\Local\\\\Temp\\\\pip-install-r9b3u_oi\\\\causalml\\\\setup.py'\"'\"';f=getattr(tokenize, '\"'\"'open'\"'\"', open)(__file__);code=f.read().replace('\"'\"'\\r\\n'\"'\"', '\"'\"'\\n'\"'\"');f.close();exec(compile(code, __file__, '\"'\"'exec'\"'\"'))' bdist_wheel -d 'C:\\Users\\alexa\\AppData\\Local\\Temp\\pip-wheel-brwsaxx4'\n",
      "       cwd: C:\\Users\\alexa\\AppData\\Local\\Temp\\pip-install-r9b3u_oi\\causalml\\\n",
      "  Complete output (78 lines):\n",
      "  running bdist_wheel\n",
      "  running build\n",
      "  running build_py\n",
      "  creating build\n",
      "  creating build\\lib.win-amd64-3.8\n",
      "  creating build\\lib.win-amd64-3.8\\causalml\n",
      "  copying causalml\\features.py -> build\\lib.win-amd64-3.8\\causalml\n",
      "  copying causalml\\match.py -> build\\lib.win-amd64-3.8\\causalml\n",
      "  copying causalml\\propensity.py -> build\\lib.win-amd64-3.8\\causalml\n",
      "  copying causalml\\__init__.py -> build\\lib.win-amd64-3.8\\causalml\n",
      "  creating build\\lib.win-amd64-3.8\\tests\n",
      "  copying tests\\conftest.py -> build\\lib.win-amd64-3.8\\tests\n",
      "  copying tests\\const.py -> build\\lib.win-amd64-3.8\\tests\n",
      "  copying tests\\test_cevae.py -> build\\lib.win-amd64-3.8\\tests\n",
      "  copying tests\\test_counterfactual_unit_selection.py -> build\\lib.win-amd64-3.8\\tests\n",
      "  copying tests\\test_datasets.py -> build\\lib.win-amd64-3.8\\tests\n",
      "  copying tests\\test_features.py -> build\\lib.win-amd64-3.8\\tests\n",
      "  copying tests\\test_ivlearner.py -> build\\lib.win-amd64-3.8\\tests\n",
      "  copying tests\\test_match.py -> build\\lib.win-amd64-3.8\\tests\n",
      "  copying tests\\test_meta_learners.py -> build\\lib.win-amd64-3.8\\tests\n",
      "  copying tests\\test_propensity.py -> build\\lib.win-amd64-3.8\\tests\n",
      "  copying tests\\test_sensitivity.py -> build\\lib.win-amd64-3.8\\tests\n",
      "  copying tests\\test_uplift_trees.py -> build\\lib.win-amd64-3.8\\tests\n",
      "  copying tests\\test_utils.py -> build\\lib.win-amd64-3.8\\tests\n",
      "  copying tests\\test_value_optimization.py -> build\\lib.win-amd64-3.8\\tests\n",
      "  copying tests\\__init__.py -> build\\lib.win-amd64-3.8\\tests\n",
      "  creating build\\lib.win-amd64-3.8\\causalml\\dataset\n",
      "  copying causalml\\dataset\\classification.py -> build\\lib.win-amd64-3.8\\causalml\\dataset\n",
      "  copying causalml\\dataset\\regression.py -> build\\lib.win-amd64-3.8\\causalml\\dataset\n",
      "  copying causalml\\dataset\\synthetic.py -> build\\lib.win-amd64-3.8\\causalml\\dataset\n",
      "  copying causalml\\dataset\\__init__.py -> build\\lib.win-amd64-3.8\\causalml\\dataset\n",
      "  creating build\\lib.win-amd64-3.8\\causalml\\feature_selection\n",
      "  copying causalml\\feature_selection\\filters.py -> build\\lib.win-amd64-3.8\\causalml\\feature_selection\n",
      "  copying causalml\\feature_selection\\__init__.py -> build\\lib.win-amd64-3.8\\causalml\\feature_selection\n",
      "  creating build\\lib.win-amd64-3.8\\causalml\\inference\n",
      "  copying causalml\\inference\\__init__.py -> build\\lib.win-amd64-3.8\\causalml\\inference\n",
      "  creating build\\lib.win-amd64-3.8\\causalml\\metrics\n",
      "  copying causalml\\metrics\\classification.py -> build\\lib.win-amd64-3.8\\causalml\\metrics\n",
      "  copying causalml\\metrics\\const.py -> build\\lib.win-amd64-3.8\\causalml\\metrics\n",
      "  copying causalml\\metrics\\regression.py -> build\\lib.win-amd64-3.8\\causalml\\metrics\n",
      "  copying causalml\\metrics\\sensitivity.py -> build\\lib.win-amd64-3.8\\causalml\\metrics\n",
      "  copying causalml\\metrics\\visualize.py -> build\\lib.win-amd64-3.8\\causalml\\metrics\n",
      "  copying causalml\\metrics\\__init__.py -> build\\lib.win-amd64-3.8\\causalml\\metrics\n",
      "  creating build\\lib.win-amd64-3.8\\causalml\\optimize\n",
      "  copying causalml\\optimize\\policylearner.py -> build\\lib.win-amd64-3.8\\causalml\\optimize\n",
      "  copying causalml\\optimize\\unit_selection.py -> build\\lib.win-amd64-3.8\\causalml\\optimize\n",
      "  copying causalml\\optimize\\utils.py -> build\\lib.win-amd64-3.8\\causalml\\optimize\n",
      "  copying causalml\\optimize\\value_optimization.py -> build\\lib.win-amd64-3.8\\causalml\\optimize\n",
      "  copying causalml\\optimize\\__init__.py -> build\\lib.win-amd64-3.8\\causalml\\optimize\n",
      "  creating build\\lib.win-amd64-3.8\\causalml\\inference\\iv\n",
      "  copying causalml\\inference\\iv\\drivlearner.py -> build\\lib.win-amd64-3.8\\causalml\\inference\\iv\n",
      "  copying causalml\\inference\\iv\\iv_regression.py -> build\\lib.win-amd64-3.8\\causalml\\inference\\iv\n",
      "  copying causalml\\inference\\iv\\__init__.py -> build\\lib.win-amd64-3.8\\causalml\\inference\\iv\n",
      "  creating build\\lib.win-amd64-3.8\\causalml\\inference\\meta\n",
      "  copying causalml\\inference\\meta\\base.py -> build\\lib.win-amd64-3.8\\causalml\\inference\\meta\n",
      "  copying causalml\\inference\\meta\\drlearner.py -> build\\lib.win-amd64-3.8\\causalml\\inference\\meta\n",
      "  copying causalml\\inference\\meta\\explainer.py -> build\\lib.win-amd64-3.8\\causalml\\inference\\meta\n",
      "  copying causalml\\inference\\meta\\rlearner.py -> build\\lib.win-amd64-3.8\\causalml\\inference\\meta\n",
      "  copying causalml\\inference\\meta\\slearner.py -> build\\lib.win-amd64-3.8\\causalml\\inference\\meta\n",
      "  copying causalml\\inference\\meta\\tlearner.py -> build\\lib.win-amd64-3.8\\causalml\\inference\\meta\n",
      "  copying causalml\\inference\\meta\\tmle.py -> build\\lib.win-amd64-3.8\\causalml\\inference\\meta\n",
      "  copying causalml\\inference\\meta\\utils.py -> build\\lib.win-amd64-3.8\\causalml\\inference\\meta\n",
      "  copying causalml\\inference\\meta\\xlearner.py -> build\\lib.win-amd64-3.8\\causalml\\inference\\meta\n",
      "  copying causalml\\inference\\meta\\__init__.py -> build\\lib.win-amd64-3.8\\causalml\\inference\\meta\n",
      "  creating build\\lib.win-amd64-3.8\\causalml\\inference\\nn\n",
      "  copying causalml\\inference\\nn\\cevae.py -> build\\lib.win-amd64-3.8\\causalml\\inference\\nn\n",
      "  copying causalml\\inference\\nn\\__init__.py -> build\\lib.win-amd64-3.8\\causalml\\inference\\nn\n",
      "  creating build\\lib.win-amd64-3.8\\causalml\\inference\\tf\n",
      "  copying causalml\\inference\\tf\\dragonnet.py -> build\\lib.win-amd64-3.8\\causalml\\inference\\tf\n",
      "  copying causalml\\inference\\tf\\utils.py -> build\\lib.win-amd64-3.8\\causalml\\inference\\tf\n",
      "  copying causalml\\inference\\tf\\__init__.py -> build\\lib.win-amd64-3.8\\causalml\\inference\\tf\n",
      "  creating build\\lib.win-amd64-3.8\\causalml\\inference\\tree\n",
      "  copying causalml\\inference\\tree\\plot.py -> build\\lib.win-amd64-3.8\\causalml\\inference\\tree\n",
      "  copying causalml\\inference\\tree\\utils.py -> build\\lib.win-amd64-3.8\\causalml\\inference\\tree\n",
      "  copying causalml\\inference\\tree\\__init__.py -> build\\lib.win-amd64-3.8\\causalml\\inference\\tree\n",
      "  running build_ext\n",
      "  building 'causalml.inference.tree.causaltree' extension\n",
      "  error: Microsoft Visual C++ 14.0 or greater is required. Get it with \"Microsoft C++ Build Tools\": https://visualstudio.microsoft.com/visual-cpp-build-tools/\n",
      "  ----------------------------------------\n",
      "  ERROR: Failed building wheel for causalml\n",
      "    ERROR: Command errored out with exit status 1:\n",
      "     command: 'C:\\Users\\alexa\\anaconda3\\python.exe' -u -c 'import sys, setuptools, tokenize; sys.argv[0] = '\"'\"'C:\\\\Users\\\\alexa\\\\AppData\\\\Local\\\\Temp\\\\pip-install-r9b3u_oi\\\\causalml\\\\setup.py'\"'\"'; __file__='\"'\"'C:\\\\Users\\\\alexa\\\\AppData\\\\Local\\\\Temp\\\\pip-install-r9b3u_oi\\\\causalml\\\\setup.py'\"'\"';f=getattr(tokenize, '\"'\"'open'\"'\"', open)(__file__);code=f.read().replace('\"'\"'\\r\\n'\"'\"', '\"'\"'\\n'\"'\"');f.close();exec(compile(code, __file__, '\"'\"'exec'\"'\"'))' install --record 'C:\\Users\\alexa\\AppData\\Local\\Temp\\pip-record-4hb_cwsx\\install-record.txt' --single-version-externally-managed --compile --install-headers 'C:\\Users\\alexa\\anaconda3\\Include\\causalml'\n",
      "         cwd: C:\\Users\\alexa\\AppData\\Local\\Temp\\pip-install-r9b3u_oi\\causalml\\\n",
      "    Complete output (78 lines):\n",
      "    running install\n",
      "    running build\n",
      "    running build_py\n",
      "    creating build\n",
      "    creating build\\lib.win-amd64-3.8\n",
      "    creating build\\lib.win-amd64-3.8\\causalml\n",
      "    copying causalml\\features.py -> build\\lib.win-amd64-3.8\\causalml\n",
      "    copying causalml\\match.py -> build\\lib.win-amd64-3.8\\causalml\n",
      "    copying causalml\\propensity.py -> build\\lib.win-amd64-3.8\\causalml\n",
      "    copying causalml\\__init__.py -> build\\lib.win-amd64-3.8\\causalml\n",
      "    creating build\\lib.win-amd64-3.8\\tests\n",
      "    copying tests\\conftest.py -> build\\lib.win-amd64-3.8\\tests\n",
      "    copying tests\\const.py -> build\\lib.win-amd64-3.8\\tests\n",
      "    copying tests\\test_cevae.py -> build\\lib.win-amd64-3.8\\tests\n",
      "    copying tests\\test_counterfactual_unit_selection.py -> build\\lib.win-amd64-3.8\\tests\n",
      "    copying tests\\test_datasets.py -> build\\lib.win-amd64-3.8\\tests\n",
      "    copying tests\\test_features.py -> build\\lib.win-amd64-3.8\\tests\n",
      "    copying tests\\test_ivlearner.py -> build\\lib.win-amd64-3.8\\tests\n",
      "    copying tests\\test_match.py -> build\\lib.win-amd64-3.8\\tests\n",
      "    copying tests\\test_meta_learners.py -> build\\lib.win-amd64-3.8\\tests\n",
      "    copying tests\\test_propensity.py -> build\\lib.win-amd64-3.8\\tests\n",
      "    copying tests\\test_sensitivity.py -> build\\lib.win-amd64-3.8\\tests\n",
      "    copying tests\\test_uplift_trees.py -> build\\lib.win-amd64-3.8\\tests\n",
      "    copying tests\\test_utils.py -> build\\lib.win-amd64-3.8\\tests\n",
      "    copying tests\\test_value_optimization.py -> build\\lib.win-amd64-3.8\\tests\n",
      "    copying tests\\__init__.py -> build\\lib.win-amd64-3.8\\tests\n",
      "    creating build\\lib.win-amd64-3.8\\causalml\\dataset\n",
      "    copying causalml\\dataset\\classification.py -> build\\lib.win-amd64-3.8\\causalml\\dataset\n",
      "    copying causalml\\dataset\\regression.py -> build\\lib.win-amd64-3.8\\causalml\\dataset\n",
      "    copying causalml\\dataset\\synthetic.py -> build\\lib.win-amd64-3.8\\causalml\\dataset\n",
      "    copying causalml\\dataset\\__init__.py -> build\\lib.win-amd64-3.8\\causalml\\dataset\n",
      "    creating build\\lib.win-amd64-3.8\\causalml\\feature_selection\n",
      "    copying causalml\\feature_selection\\filters.py -> build\\lib.win-amd64-3.8\\causalml\\feature_selection\n",
      "    copying causalml\\feature_selection\\__init__.py -> build\\lib.win-amd64-3.8\\causalml\\feature_selection\n",
      "    creating build\\lib.win-amd64-3.8\\causalml\\inference\n",
      "    copying causalml\\inference\\__init__.py -> build\\lib.win-amd64-3.8\\causalml\\inference\n",
      "    creating build\\lib.win-amd64-3.8\\causalml\\metrics\n",
      "    copying causalml\\metrics\\classification.py -> build\\lib.win-amd64-3.8\\causalml\\metrics\n",
      "    copying causalml\\metrics\\const.py -> build\\lib.win-amd64-3.8\\causalml\\metrics\n",
      "    copying causalml\\metrics\\regression.py -> build\\lib.win-amd64-3.8\\causalml\\metrics\n",
      "    copying causalml\\metrics\\sensitivity.py -> build\\lib.win-amd64-3.8\\causalml\\metrics\n",
      "    copying causalml\\metrics\\visualize.py -> build\\lib.win-amd64-3.8\\causalml\\metrics\n",
      "    copying causalml\\metrics\\__init__.py -> build\\lib.win-amd64-3.8\\causalml\\metrics\n",
      "    creating build\\lib.win-amd64-3.8\\causalml\\optimize\n",
      "    copying causalml\\optimize\\policylearner.py -> build\\lib.win-amd64-3.8\\causalml\\optimize\n",
      "    copying causalml\\optimize\\unit_selection.py -> build\\lib.win-amd64-3.8\\causalml\\optimize\n",
      "    copying causalml\\optimize\\utils.py -> build\\lib.win-amd64-3.8\\causalml\\optimize\n",
      "    copying causalml\\optimize\\value_optimization.py -> build\\lib.win-amd64-3.8\\causalml\\optimize\n",
      "    copying causalml\\optimize\\__init__.py -> build\\lib.win-amd64-3.8\\causalml\\optimize\n",
      "    creating build\\lib.win-amd64-3.8\\causalml\\inference\\iv\n",
      "    copying causalml\\inference\\iv\\drivlearner.py -> build\\lib.win-amd64-3.8\\causalml\\inference\\iv\n",
      "    copying causalml\\inference\\iv\\iv_regression.py -> build\\lib.win-amd64-3.8\\causalml\\inference\\iv\n",
      "    copying causalml\\inference\\iv\\__init__.py -> build\\lib.win-amd64-3.8\\causalml\\inference\\iv\n",
      "    creating build\\lib.win-amd64-3.8\\causalml\\inference\\meta\n",
      "    copying causalml\\inference\\meta\\base.py -> build\\lib.win-amd64-3.8\\causalml\\inference\\meta\n",
      "    copying causalml\\inference\\meta\\drlearner.py -> build\\lib.win-amd64-3.8\\causalml\\inference\\meta\n",
      "    copying causalml\\inference\\meta\\explainer.py -> build\\lib.win-amd64-3.8\\causalml\\inference\\meta\n",
      "    copying causalml\\inference\\meta\\rlearner.py -> build\\lib.win-amd64-3.8\\causalml\\inference\\meta\n",
      "    copying causalml\\inference\\meta\\slearner.py -> build\\lib.win-amd64-3.8\\causalml\\inference\\meta\n",
      "    copying causalml\\inference\\meta\\tlearner.py -> build\\lib.win-amd64-3.8\\causalml\\inference\\meta\n",
      "    copying causalml\\inference\\meta\\tmle.py -> build\\lib.win-amd64-3.8\\causalml\\inference\\meta\n",
      "    copying causalml\\inference\\meta\\utils.py -> build\\lib.win-amd64-3.8\\causalml\\inference\\meta\n",
      "    copying causalml\\inference\\meta\\xlearner.py -> build\\lib.win-amd64-3.8\\causalml\\inference\\meta\n",
      "    copying causalml\\inference\\meta\\__init__.py -> build\\lib.win-amd64-3.8\\causalml\\inference\\meta\n",
      "    creating build\\lib.win-amd64-3.8\\causalml\\inference\\nn\n",
      "    copying causalml\\inference\\nn\\cevae.py -> build\\lib.win-amd64-3.8\\causalml\\inference\\nn\n",
      "    copying causalml\\inference\\nn\\__init__.py -> build\\lib.win-amd64-3.8\\causalml\\inference\\nn\n",
      "    creating build\\lib.win-amd64-3.8\\causalml\\inference\\tf\n",
      "    copying causalml\\inference\\tf\\dragonnet.py -> build\\lib.win-amd64-3.8\\causalml\\inference\\tf\n",
      "    copying causalml\\inference\\tf\\utils.py -> build\\lib.win-amd64-3.8\\causalml\\inference\\tf\n",
      "    copying causalml\\inference\\tf\\__init__.py -> build\\lib.win-amd64-3.8\\causalml\\inference\\tf\n",
      "    creating build\\lib.win-amd64-3.8\\causalml\\inference\\tree\n",
      "    copying causalml\\inference\\tree\\plot.py -> build\\lib.win-amd64-3.8\\causalml\\inference\\tree\n",
      "    copying causalml\\inference\\tree\\utils.py -> build\\lib.win-amd64-3.8\\causalml\\inference\\tree\n",
      "    copying causalml\\inference\\tree\\__init__.py -> build\\lib.win-amd64-3.8\\causalml\\inference\\tree\n",
      "    running build_ext\n",
      "    building 'causalml.inference.tree.causaltree' extension\n",
      "    error: Microsoft Visual C++ 14.0 or greater is required. Get it with \"Microsoft C++ Build Tools\": https://visualstudio.microsoft.com/visual-cpp-build-tools/\n",
      "    ----------------------------------------\n",
      "ERROR: Command errored out with exit status 1: 'C:\\Users\\alexa\\anaconda3\\python.exe' -u -c 'import sys, setuptools, tokenize; sys.argv[0] = '\"'\"'C:\\\\Users\\\\alexa\\\\AppData\\\\Local\\\\Temp\\\\pip-install-r9b3u_oi\\\\causalml\\\\setup.py'\"'\"'; __file__='\"'\"'C:\\\\Users\\\\alexa\\\\AppData\\\\Local\\\\Temp\\\\pip-install-r9b3u_oi\\\\causalml\\\\setup.py'\"'\"';f=getattr(tokenize, '\"'\"'open'\"'\"', open)(__file__);code=f.read().replace('\"'\"'\\r\\n'\"'\"', '\"'\"'\\n'\"'\"');f.close();exec(compile(code, __file__, '\"'\"'exec'\"'\"'))' install --record 'C:\\Users\\alexa\\AppData\\Local\\Temp\\pip-record-4hb_cwsx\\install-record.txt' --single-version-externally-managed --compile --install-headers 'C:\\Users\\alexa\\anaconda3\\Include\\causalml' Check the logs for full command output.\n"
     ]
    },
    {
     "ename": "ModuleNotFoundError",
     "evalue": "No module named 'causalml.inference'",
     "output_type": "error",
     "traceback": [
      "\u001b[1;31m---------------------------------------------------------------------------\u001b[0m",
      "\u001b[1;31mModuleNotFoundError\u001b[0m                       Traceback (most recent call last)",
      "\u001b[1;32m<ipython-input-32-3949bb8f448b>\u001b[0m in \u001b[0;36m<module>\u001b[1;34m\u001b[0m\n\u001b[0;32m     14\u001b[0m \u001b[0mget_ipython\u001b[0m\u001b[1;33m(\u001b[0m\u001b[1;33m)\u001b[0m\u001b[1;33m.\u001b[0m\u001b[0msystem\u001b[0m\u001b[1;33m(\u001b[0m\u001b[1;34m'pip install causalml'\u001b[0m\u001b[1;33m)\u001b[0m\u001b[1;33m\u001b[0m\u001b[1;33m\u001b[0m\u001b[0m\n\u001b[0;32m     15\u001b[0m \u001b[1;33m\u001b[0m\u001b[0m\n\u001b[1;32m---> 16\u001b[1;33m \u001b[1;32mfrom\u001b[0m \u001b[0mcausalml\u001b[0m\u001b[1;33m.\u001b[0m\u001b[0minference\u001b[0m\u001b[1;33m.\u001b[0m\u001b[0mtree\u001b[0m \u001b[1;32mimport\u001b[0m \u001b[0mUpliftTreeClassifier\u001b[0m\u001b[1;33m,\u001b[0m \u001b[0mUpliftRandomForestClassifier\u001b[0m\u001b[1;33m\u001b[0m\u001b[1;33m\u001b[0m\u001b[0m\n\u001b[0m\u001b[0;32m     17\u001b[0m \u001b[1;32mfrom\u001b[0m \u001b[0mcausalml\u001b[0m\u001b[1;33m.\u001b[0m\u001b[0minference\u001b[0m\u001b[1;33m.\u001b[0m\u001b[0mtree\u001b[0m \u001b[1;32mimport\u001b[0m \u001b[0muplift_tree_string\u001b[0m\u001b[1;33m,\u001b[0m \u001b[0muplift_tree_plot\u001b[0m\u001b[1;33m\u001b[0m\u001b[1;33m\u001b[0m\u001b[0m\n\u001b[0;32m     18\u001b[0m \u001b[1;33m\u001b[0m\u001b[0m\n",
      "\u001b[1;31mModuleNotFoundError\u001b[0m: No module named 'causalml.inference'"
     ]
    }
   ],
   "source": [
    "import numpy as np\n",
    "import pandas as pd\n",
    "\n",
    "from IPython.display import Image\n",
    "\n",
    "from sklearn.model_selection import train_test_split\n",
    "\n",
    "!pip install scikit-uplift==0.2.0\n",
    "\n",
    "from sklift.metrics import uplift_at_k\n",
    "from sklift.viz import plot_uplift_preds\n",
    "from sklift.models import SoloModel, ClassTransformation, TwoModels\n",
    "\n",
    "!pip install causalml\n",
    "\n",
    "from causalml.inference.tree import UpliftTreeClassifier, UpliftRandomForestClassifier\n",
    "from causalml.inference.tree import uplift_tree_string, uplift_tree_plot\n",
    "\n",
    "from catboost import CatBoostClassifier\n",
    "\n",
    "\n",
    "%matplotlib inline"
   ]
  },
  {
   "cell_type": "code",
   "execution_count": 37,
   "metadata": {},
   "outputs": [
    {
     "name": "stdout",
     "output_type": "stream",
     "text": [
      "<class 'pandas.core.frame.DataFrame'>\n",
      "RangeIndex: 64000 entries, 0 to 63999\n",
      "Data columns (total 9 columns):\n",
      " #   Column         Non-Null Count  Dtype  \n",
      "---  ------         --------------  -----  \n",
      " 0   recency        64000 non-null  int64  \n",
      " 1   history        64000 non-null  float64\n",
      " 2   used_discount  64000 non-null  int64  \n",
      " 3   used_bogo      64000 non-null  int64  \n",
      " 4   zip_code       64000 non-null  object \n",
      " 5   is_referral    64000 non-null  int64  \n",
      " 6   channel        64000 non-null  object \n",
      " 7   offer          64000 non-null  object \n",
      " 8   conversion     64000 non-null  int64  \n",
      "dtypes: float64(1), int64(5), object(3)\n",
      "memory usage: 4.4+ MB\n"
     ]
    },
    {
     "data": {
      "text/html": [
       "<div>\n",
       "<style scoped>\n",
       "    .dataframe tbody tr th:only-of-type {\n",
       "        vertical-align: middle;\n",
       "    }\n",
       "\n",
       "    .dataframe tbody tr th {\n",
       "        vertical-align: top;\n",
       "    }\n",
       "\n",
       "    .dataframe thead th {\n",
       "        text-align: right;\n",
       "    }\n",
       "</style>\n",
       "<table border=\"1\" class=\"dataframe\">\n",
       "  <thead>\n",
       "    <tr style=\"text-align: right;\">\n",
       "      <th></th>\n",
       "      <th>recency</th>\n",
       "      <th>history</th>\n",
       "      <th>used_discount</th>\n",
       "      <th>used_bogo</th>\n",
       "      <th>zip_code</th>\n",
       "      <th>is_referral</th>\n",
       "      <th>channel</th>\n",
       "      <th>offer</th>\n",
       "      <th>conversion</th>\n",
       "    </tr>\n",
       "  </thead>\n",
       "  <tbody>\n",
       "    <tr>\n",
       "      <th>0</th>\n",
       "      <td>10</td>\n",
       "      <td>142.44</td>\n",
       "      <td>1</td>\n",
       "      <td>0</td>\n",
       "      <td>Surburban</td>\n",
       "      <td>0</td>\n",
       "      <td>Phone</td>\n",
       "      <td>Buy One Get One</td>\n",
       "      <td>0</td>\n",
       "    </tr>\n",
       "    <tr>\n",
       "      <th>1</th>\n",
       "      <td>6</td>\n",
       "      <td>329.08</td>\n",
       "      <td>1</td>\n",
       "      <td>1</td>\n",
       "      <td>Rural</td>\n",
       "      <td>1</td>\n",
       "      <td>Web</td>\n",
       "      <td>No Offer</td>\n",
       "      <td>0</td>\n",
       "    </tr>\n",
       "    <tr>\n",
       "      <th>2</th>\n",
       "      <td>7</td>\n",
       "      <td>180.65</td>\n",
       "      <td>0</td>\n",
       "      <td>1</td>\n",
       "      <td>Surburban</td>\n",
       "      <td>1</td>\n",
       "      <td>Web</td>\n",
       "      <td>Buy One Get One</td>\n",
       "      <td>0</td>\n",
       "    </tr>\n",
       "    <tr>\n",
       "      <th>3</th>\n",
       "      <td>9</td>\n",
       "      <td>675.83</td>\n",
       "      <td>1</td>\n",
       "      <td>0</td>\n",
       "      <td>Rural</td>\n",
       "      <td>1</td>\n",
       "      <td>Web</td>\n",
       "      <td>Discount</td>\n",
       "      <td>0</td>\n",
       "    </tr>\n",
       "    <tr>\n",
       "      <th>4</th>\n",
       "      <td>2</td>\n",
       "      <td>45.34</td>\n",
       "      <td>1</td>\n",
       "      <td>0</td>\n",
       "      <td>Urban</td>\n",
       "      <td>0</td>\n",
       "      <td>Web</td>\n",
       "      <td>Buy One Get One</td>\n",
       "      <td>0</td>\n",
       "    </tr>\n",
       "  </tbody>\n",
       "</table>\n",
       "</div>"
      ],
      "text/plain": [
       "   recency  history  used_discount  used_bogo   zip_code  is_referral channel  \\\n",
       "0       10   142.44              1          0  Surburban            0   Phone   \n",
       "1        6   329.08              1          1      Rural            1     Web   \n",
       "2        7   180.65              0          1  Surburban            1     Web   \n",
       "3        9   675.83              1          0      Rural            1     Web   \n",
       "4        2    45.34              1          0      Urban            0     Web   \n",
       "\n",
       "             offer  conversion  \n",
       "0  Buy One Get One           0  \n",
       "1         No Offer           0  \n",
       "2  Buy One Get One           0  \n",
       "3         Discount           0  \n",
       "4  Buy One Get One           0  "
      ]
     },
     "execution_count": 37,
     "metadata": {},
     "output_type": "execute_result"
    }
   ],
   "source": [
    "df = pd.read_csv('data.csv', delimiter=',')\n",
    "df.info()\n",
    "\n",
    "df.head()"
   ]
  },
  {
   "cell_type": "code",
   "execution_count": 38,
   "metadata": {},
   "outputs": [
    {
     "data": {
      "text/plain": [
       "Buy One Get One    21387\n",
       "Discount           21307\n",
       "No Offer           21306\n",
       "Name: offer, dtype: int64"
      ]
     },
     "execution_count": 38,
     "metadata": {},
     "output_type": "execute_result"
    }
   ],
   "source": [
    "df['conversion'].value_counts()\n",
    "df['offer'].value_counts()"
   ]
  },
  {
   "cell_type": "markdown",
   "metadata": {},
   "source": [
    "#### 2. там поле conversion - это целевая переменная, а offer - коммуникация. Переименовать поля (conversion -> target, offer -> treatment) и привести поле treatment к бинарному виду (1 или 0, т.е было какое-то предложение или нет) - значение No Offer означает отсутствие коммуникации, а все остальные - наличие."
   ]
  },
  {
   "cell_type": "code",
   "execution_count": 39,
   "metadata": {},
   "outputs": [],
   "source": [
    "# переименовываем\n",
    "\n",
    "df = df.rename(columns={'conversion': 'target', 'offer': 'treatment'})"
   ]
  },
  {
   "cell_type": "markdown",
   "metadata": {},
   "source": [
    "Приводим в бинарный вид и удаляем признак No Offer - он не дает никакой дополнительной информации, т.к. нули в 2-х других признаках автоматически означают No Offer"
   ]
  },
  {
   "cell_type": "code",
   "execution_count": 40,
   "metadata": {},
   "outputs": [
    {
     "data": {
      "text/html": [
       "<div>\n",
       "<style scoped>\n",
       "    .dataframe tbody tr th:only-of-type {\n",
       "        vertical-align: middle;\n",
       "    }\n",
       "\n",
       "    .dataframe tbody tr th {\n",
       "        vertical-align: top;\n",
       "    }\n",
       "\n",
       "    .dataframe thead th {\n",
       "        text-align: right;\n",
       "    }\n",
       "</style>\n",
       "<table border=\"1\" class=\"dataframe\">\n",
       "  <thead>\n",
       "    <tr style=\"text-align: right;\">\n",
       "      <th></th>\n",
       "      <th>recency</th>\n",
       "      <th>history</th>\n",
       "      <th>used_discount</th>\n",
       "      <th>used_bogo</th>\n",
       "      <th>zip_code</th>\n",
       "      <th>is_referral</th>\n",
       "      <th>channel</th>\n",
       "      <th>treatment</th>\n",
       "      <th>target</th>\n",
       "    </tr>\n",
       "  </thead>\n",
       "  <tbody>\n",
       "    <tr>\n",
       "      <th>0</th>\n",
       "      <td>10</td>\n",
       "      <td>142.44</td>\n",
       "      <td>1</td>\n",
       "      <td>0</td>\n",
       "      <td>Surburban</td>\n",
       "      <td>0</td>\n",
       "      <td>Phone</td>\n",
       "      <td>1</td>\n",
       "      <td>0</td>\n",
       "    </tr>\n",
       "    <tr>\n",
       "      <th>1</th>\n",
       "      <td>6</td>\n",
       "      <td>329.08</td>\n",
       "      <td>1</td>\n",
       "      <td>1</td>\n",
       "      <td>Rural</td>\n",
       "      <td>1</td>\n",
       "      <td>Web</td>\n",
       "      <td>0</td>\n",
       "      <td>0</td>\n",
       "    </tr>\n",
       "    <tr>\n",
       "      <th>2</th>\n",
       "      <td>7</td>\n",
       "      <td>180.65</td>\n",
       "      <td>0</td>\n",
       "      <td>1</td>\n",
       "      <td>Surburban</td>\n",
       "      <td>1</td>\n",
       "      <td>Web</td>\n",
       "      <td>1</td>\n",
       "      <td>0</td>\n",
       "    </tr>\n",
       "    <tr>\n",
       "      <th>3</th>\n",
       "      <td>9</td>\n",
       "      <td>675.83</td>\n",
       "      <td>1</td>\n",
       "      <td>0</td>\n",
       "      <td>Rural</td>\n",
       "      <td>1</td>\n",
       "      <td>Web</td>\n",
       "      <td>1</td>\n",
       "      <td>0</td>\n",
       "    </tr>\n",
       "    <tr>\n",
       "      <th>4</th>\n",
       "      <td>2</td>\n",
       "      <td>45.34</td>\n",
       "      <td>1</td>\n",
       "      <td>0</td>\n",
       "      <td>Urban</td>\n",
       "      <td>0</td>\n",
       "      <td>Web</td>\n",
       "      <td>1</td>\n",
       "      <td>0</td>\n",
       "    </tr>\n",
       "  </tbody>\n",
       "</table>\n",
       "</div>"
      ],
      "text/plain": [
       "   recency  history  used_discount  used_bogo   zip_code  is_referral channel  \\\n",
       "0       10   142.44              1          0  Surburban            0   Phone   \n",
       "1        6   329.08              1          1      Rural            1     Web   \n",
       "2        7   180.65              0          1  Surburban            1     Web   \n",
       "3        9   675.83              1          0      Rural            1     Web   \n",
       "4        2    45.34              1          0      Urban            0     Web   \n",
       "\n",
       "   treatment  target  \n",
       "0          1       0  \n",
       "1          0       0  \n",
       "2          1       0  \n",
       "3          1       0  \n",
       "4          1       0  "
      ]
     },
     "execution_count": 40,
     "metadata": {},
     "output_type": "execute_result"
    }
   ],
   "source": [
    "df.loc[df['treatment'] != 'No Offer', 'treatment'] = 1\n",
    "df.loc[df['treatment'] == 'No Offer', 'treatment'] = 0\n",
    "df['treatment'] = df['treatment'].astype(np.uint8)\n",
    "\n",
    "df.head()"
   ]
  },
  {
   "cell_type": "markdown",
   "metadata": {},
   "source": [
    "#### 3. сделать разбиение набора данных не тренировочную и тестовую выборки"
   ]
  },
  {
   "cell_type": "code",
   "execution_count": 41,
   "metadata": {},
   "outputs": [
    {
     "data": {
      "text/plain": [
       "((48000, 8), (16000, 8), (48000,), (16000,), (48000,))"
      ]
     },
     "execution_count": 41,
     "metadata": {},
     "output_type": "execute_result"
    }
   ],
   "source": [
    "X_train, X_test, y_train, y_test, treat_train, treat_test = train_test_split(df.drop(columns=['target']), \n",
    "                                                            df['target'],\n",
    "                                                            df['treatment'],\n",
    "                                                            random_state=0)\n",
    "\n",
    "X_train.shape, X_test.shape, y_train.shape, y_test.shape, treat_train.shape"
   ]
  },
  {
   "cell_type": "markdown",
   "metadata": {},
   "source": [
    "#### 4.сделать feature engineering на ваше усмотрение (допускается свобода выбора методов)"
   ]
  },
  {
   "cell_type": "code",
   "execution_count": 42,
   "metadata": {},
   "outputs": [
    {
     "data": {
      "text/plain": [
       "count    64000.000000\n",
       "mean       242.085656\n",
       "std        256.158608\n",
       "min         29.990000\n",
       "25%         64.660000\n",
       "50%        158.110000\n",
       "75%        325.657500\n",
       "max       3345.930000\n",
       "Name: history, dtype: float64"
      ]
     },
     "execution_count": 42,
     "metadata": {},
     "output_type": "execute_result"
    }
   ],
   "source": [
    "# Рaссмотрим пользователей по сумме их покупок для разделения.\n",
    "\n",
    "df['history'].describe()\n"
   ]
  },
  {
   "cell_type": "code",
   "execution_count": 43,
   "metadata": {},
   "outputs": [
    {
     "data": {
      "text/html": [
       "<div>\n",
       "<style scoped>\n",
       "    .dataframe tbody tr th:only-of-type {\n",
       "        vertical-align: middle;\n",
       "    }\n",
       "\n",
       "    .dataframe tbody tr th {\n",
       "        vertical-align: top;\n",
       "    }\n",
       "\n",
       "    .dataframe thead th {\n",
       "        text-align: right;\n",
       "    }\n",
       "</style>\n",
       "<table border=\"1\" class=\"dataframe\">\n",
       "  <thead>\n",
       "    <tr style=\"text-align: right;\">\n",
       "      <th></th>\n",
       "      <th>recency</th>\n",
       "      <th>history</th>\n",
       "      <th>used_discount</th>\n",
       "      <th>used_bogo</th>\n",
       "      <th>zip_code</th>\n",
       "      <th>is_referral</th>\n",
       "      <th>channel</th>\n",
       "      <th>treatment</th>\n",
       "      <th>Whales</th>\n",
       "      <th>Dolphins</th>\n",
       "      <th>Minnows</th>\n",
       "    </tr>\n",
       "  </thead>\n",
       "  <tbody>\n",
       "    <tr>\n",
       "      <th>1098</th>\n",
       "      <td>8</td>\n",
       "      <td>63.58</td>\n",
       "      <td>1</td>\n",
       "      <td>0</td>\n",
       "      <td>Surburban</td>\n",
       "      <td>1</td>\n",
       "      <td>Phone</td>\n",
       "      <td>1</td>\n",
       "      <td>0</td>\n",
       "      <td>0</td>\n",
       "      <td>1</td>\n",
       "    </tr>\n",
       "    <tr>\n",
       "      <th>13764</th>\n",
       "      <td>3</td>\n",
       "      <td>395.35</td>\n",
       "      <td>1</td>\n",
       "      <td>0</td>\n",
       "      <td>Surburban</td>\n",
       "      <td>1</td>\n",
       "      <td>Web</td>\n",
       "      <td>1</td>\n",
       "      <td>0</td>\n",
       "      <td>1</td>\n",
       "      <td>0</td>\n",
       "    </tr>\n",
       "    <tr>\n",
       "      <th>45116</th>\n",
       "      <td>4</td>\n",
       "      <td>1307.99</td>\n",
       "      <td>1</td>\n",
       "      <td>1</td>\n",
       "      <td>Rural</td>\n",
       "      <td>1</td>\n",
       "      <td>Phone</td>\n",
       "      <td>1</td>\n",
       "      <td>1</td>\n",
       "      <td>0</td>\n",
       "      <td>0</td>\n",
       "    </tr>\n",
       "    <tr>\n",
       "      <th>15363</th>\n",
       "      <td>10</td>\n",
       "      <td>159.01</td>\n",
       "      <td>0</td>\n",
       "      <td>1</td>\n",
       "      <td>Surburban</td>\n",
       "      <td>1</td>\n",
       "      <td>Web</td>\n",
       "      <td>0</td>\n",
       "      <td>0</td>\n",
       "      <td>0</td>\n",
       "      <td>1</td>\n",
       "    </tr>\n",
       "    <tr>\n",
       "      <th>44498</th>\n",
       "      <td>1</td>\n",
       "      <td>276.00</td>\n",
       "      <td>1</td>\n",
       "      <td>0</td>\n",
       "      <td>Urban</td>\n",
       "      <td>0</td>\n",
       "      <td>Phone</td>\n",
       "      <td>0</td>\n",
       "      <td>0</td>\n",
       "      <td>1</td>\n",
       "      <td>0</td>\n",
       "    </tr>\n",
       "  </tbody>\n",
       "</table>\n",
       "</div>"
      ],
      "text/plain": [
       "       recency  history  used_discount  used_bogo   zip_code  is_referral  \\\n",
       "1098         8    63.58              1          0  Surburban            1   \n",
       "13764        3   395.35              1          0  Surburban            1   \n",
       "45116        4  1307.99              1          1      Rural            1   \n",
       "15363       10   159.01              0          1  Surburban            1   \n",
       "44498        1   276.00              1          0      Urban            0   \n",
       "\n",
       "      channel  treatment  Whales  Dolphins  Minnows  \n",
       "1098    Phone          1       0         0        1  \n",
       "13764     Web          1       0         1        0  \n",
       "45116   Phone          1       1         0        0  \n",
       "15363     Web          0       0         0        1  \n",
       "44498   Phone          0       0         1        0  "
      ]
     },
     "execution_count": 43,
     "metadata": {},
     "output_type": "execute_result"
    }
   ],
   "source": [
    "# Пусть юзеры с заказами на сумму >= 1000 будут китами, на сумму 200-1000 - дельфинами, и до 200 - пескарями.\n",
    "\n",
    "def segment_customers(df: pd.DataFrame) -> pd.DataFrame:\n",
    "    df = df.copy()\n",
    "    df['Whales'] = 0\n",
    "    df['Dolphins'] = 0\n",
    "    df['Minnows'] = 0\n",
    "    df.loc[df['history'] >= 1000, 'Whales'] = 1\n",
    "    df.loc[(df['history'] < 1000) & (df['history'] >= 200), 'Dolphins'] = 1\n",
    "    df.loc[df['history'] < 200, 'Minnows'] = 1\n",
    "    return df\n",
    "\n",
    "X_train = segment_customers(X_train)\n",
    "X_test = segment_customers(X_test)\n",
    "\n",
    "X_train.head()"
   ]
  },
  {
   "cell_type": "markdown",
   "metadata": {},
   "source": [
    "#### 5. провести uplift-моделирование 3 способами: одна модель с признаком коммуникации (S learner), модель с трансформацией таргета (трансформация классов п. 2. 1) и вариант с двумя независимыми моделями"
   ]
  },
  {
   "cell_type": "code",
   "execution_count": 44,
   "metadata": {},
   "outputs": [],
   "source": [
    "# Сделаем датафрейм для сравнения метрик:\n",
    "\n",
    "metrics_df = pd.DataFrame(columns=['uplift@10%', 'uplift@20%'])"
   ]
  },
  {
   "cell_type": "code",
   "execution_count": 45,
   "metadata": {},
   "outputs": [],
   "source": [
    "# Категориальные признаки:\n",
    "\n",
    "cat_features = ['zip_code', 'channel']"
   ]
  },
  {
   "cell_type": "markdown",
   "metadata": {},
   "source": [
    "#### S-leaner"
   ]
  },
  {
   "cell_type": "code",
   "execution_count": 46,
   "metadata": {},
   "outputs": [
    {
     "name": "stdout",
     "output_type": "stream",
     "text": [
      "[0.06326457 0.06920032 0.07275016 ... 0.06685124 0.02610939 0.07757569]\n"
     ]
    }
   ],
   "source": [
    "from sklift.metrics import uplift_at_k\n",
    "from sklift.viz import plot_uplift_preds\n",
    "from sklift.models import SoloModel\n",
    "\n",
    "# sklift поддерживает любые модели, \n",
    "# которые удовлетворяют соглашениями scikit-learn\n",
    "# Для примера воспользуемся catboost\n",
    "from catboost import CatBoostClassifier\n",
    "\n",
    "sm = SoloModel(CatBoostClassifier(iterations=20, thread_count=2, random_state=42, silent=True))\n",
    "sm = sm.fit(X_train, y_train, treat_train, estimator_fit_params={'cat_features': cat_features})\n",
    "\n",
    "uplift_sm = sm.predict(X_test)\n",
    "print(uplift_sm)\n",
    "\n",
    "sm_score_10 = uplift_at_k(y_true=y_test, uplift=uplift_sm, treatment=treat_test, strategy='by_group', k=0.1)\n",
    "sm_score_20 = uplift_at_k(y_true=y_test, uplift=uplift_sm, treatment=treat_test, strategy='by_group', k=0.2)\n"
   ]
  },
  {
   "cell_type": "code",
   "execution_count": 47,
   "metadata": {},
   "outputs": [],
   "source": [
    "# Сохраним метрики модели\n",
    "\n",
    "metrics_df = metrics_df.append({'uplift@10%': sm_score_10, 'uplift@20%': sm_score_20}, ignore_index=True)"
   ]
  },
  {
   "cell_type": "markdown",
   "metadata": {},
   "source": [
    "#### Transform Learner"
   ]
  },
  {
   "cell_type": "code",
   "execution_count": 48,
   "metadata": {},
   "outputs": [
    {
     "name": "stderr",
     "output_type": "stream",
     "text": [
      "<ipython-input-48-70bd006fd285>:2: UserWarning: It is recommended to use this approach on treatment balanced data. Current sample size is unbalanced.\n",
      "  ct = ct.fit(X_train, y_train, treat_train, estimator_fit_params={'cat_features': cat_features})\n"
     ]
    },
    {
     "name": "stdout",
     "output_type": "stream",
     "text": [
      "[-0.68133514 -0.66582944 -0.61137839 ...  0.78141424 -0.65206333\n",
      " -0.32893603]\n"
     ]
    }
   ],
   "source": [
    "ct = ClassTransformation(CatBoostClassifier(iterations=20, thread_count=2, random_state=42, silent=True))\n",
    "ct = ct.fit(X_train, y_train, treat_train, estimator_fit_params={'cat_features': cat_features})\n",
    "\n",
    "uplift_ct = ct.predict(X_test)\n",
    "print(uplift_ct)\n",
    "\n",
    "ct_score_10 = uplift_at_k(y_true=y_test, uplift=uplift_ct, treatment=treat_test, strategy='by_group', k=0.1)\n",
    "ct_score_20 = uplift_at_k(y_true=y_test, uplift=uplift_ct, treatment=treat_test, strategy='by_group', k=0.2)"
   ]
  },
  {
   "cell_type": "code",
   "execution_count": 50,
   "metadata": {},
   "outputs": [],
   "source": [
    "# Сохраняем метрики модели:\n",
    "\n",
    "metrics_df = metrics_df.append({'uplift@10%': ct_score_10, 'uplift@20%': ct_score_20}, ignore_index=True)"
   ]
  },
  {
   "cell_type": "markdown",
   "metadata": {},
   "source": [
    "#### Two Model Learner"
   ]
  },
  {
   "cell_type": "code",
   "execution_count": 51,
   "metadata": {},
   "outputs": [
    {
     "name": "stdout",
     "output_type": "stream",
     "text": [
      "[0.08574949 0.08029174 0.09133908 ... 0.07039956 0.0432995  0.12032493]\n"
     ]
    }
   ],
   "source": [
    "tm = TwoModels(\n",
    "    estimator_trmnt=CatBoostClassifier(iterations=20, thread_count=2, random_state=42, silent=True), \n",
    "    estimator_ctrl=CatBoostClassifier(iterations=20, thread_count=2, random_state=42, silent=True), \n",
    "    method='vanilla'\n",
    ")\n",
    "tm = tm.fit(\n",
    "    X_train, y_train, treat_train,\n",
    "    estimator_trmnt_fit_params={'cat_features': cat_features}, \n",
    "    estimator_ctrl_fit_params={'cat_features': cat_features}\n",
    ")\n",
    "\n",
    "uplift_tm = tm.predict(X_test)\n",
    "print(uplift_tm)\n",
    "\n",
    "tm_score_10 = uplift_at_k(y_true=y_test, uplift=uplift_tm, treatment=treat_test, strategy='by_group', k=0.1)\n",
    "tm_score_20 = uplift_at_k(y_true=y_test, uplift=uplift_tm, treatment=treat_test, strategy='by_group', k=0.2)"
   ]
  },
  {
   "cell_type": "code",
   "execution_count": 52,
   "metadata": {},
   "outputs": [],
   "source": [
    "# Сохраняем:\n",
    "\n",
    "metrics_df = metrics_df.append({'uplift@10%': tm_score_10, 'uplift@20%': tm_score_20}, ignore_index=True)"
   ]
  },
  {
   "cell_type": "markdown",
   "metadata": {},
   "source": [
    "#### 6. вывести единую таблицу сравнения метрик uplift@10%, uplift@20% этих 3 моделей"
   ]
  },
  {
   "cell_type": "code",
   "execution_count": 53,
   "metadata": {},
   "outputs": [
    {
     "data": {
      "text/html": [
       "<div>\n",
       "<style scoped>\n",
       "    .dataframe tbody tr th:only-of-type {\n",
       "        vertical-align: middle;\n",
       "    }\n",
       "\n",
       "    .dataframe tbody tr th {\n",
       "        vertical-align: top;\n",
       "    }\n",
       "\n",
       "    .dataframe thead th {\n",
       "        text-align: right;\n",
       "    }\n",
       "</style>\n",
       "<table border=\"1\" class=\"dataframe\">\n",
       "  <thead>\n",
       "    <tr style=\"text-align: right;\">\n",
       "      <th></th>\n",
       "      <th>uplift@10%</th>\n",
       "      <th>uplift@20%</th>\n",
       "    </tr>\n",
       "  </thead>\n",
       "  <tbody>\n",
       "    <tr>\n",
       "      <th>0</th>\n",
       "      <td>0.059370</td>\n",
       "      <td>0.068407</td>\n",
       "    </tr>\n",
       "    <tr>\n",
       "      <th>1</th>\n",
       "      <td>0.225533</td>\n",
       "      <td>0.195837</td>\n",
       "    </tr>\n",
       "    <tr>\n",
       "      <th>2</th>\n",
       "      <td>0.079349</td>\n",
       "      <td>0.065813</td>\n",
       "    </tr>\n",
       "  </tbody>\n",
       "</table>\n",
       "</div>"
      ],
      "text/plain": [
       "   uplift@10%  uplift@20%\n",
       "0    0.059370    0.068407\n",
       "1    0.225533    0.195837\n",
       "2    0.079349    0.065813"
      ]
     },
     "execution_count": 53,
     "metadata": {},
     "output_type": "execute_result"
    }
   ],
   "source": [
    "metrics_df"
   ]
  },
  {
   "cell_type": "markdown",
   "metadata": {},
   "source": [
    "#### 7. построить модель UpliftTreeClassifier и попытаться описать словами полученное дерево"
   ]
  },
  {
   "cell_type": "code",
   "execution_count": 54,
   "metadata": {},
   "outputs": [],
   "source": [
    "def transform_data_to_tree(df: pd.DataFrame) -> pd.DataFrame:\n",
    "    df = df.copy()\n",
    "    df = pd.get_dummies(df, drop_first=True)\n",
    "    return df"
   ]
  },
  {
   "cell_type": "code",
   "execution_count": 55,
   "metadata": {},
   "outputs": [],
   "source": [
    "X_train_tree = transform_data_to_tree(X_train)\n",
    "X_test_tree = transform_data_to_tree(X_test)\n",
    "features = [col for col in X_train_tree]"
   ]
  },
  {
   "cell_type": "code",
   "execution_count": 57,
   "metadata": {},
   "outputs": [
    {
     "name": "stdout",
     "output_type": "stream",
     "text": [
      "C:\\Users\\alexa\\causalml\n"
     ]
    },
    {
     "name": "stderr",
     "output_type": "stream",
     "text": [
      "fatal: destination path 'causalml' already exists and is not an empty directory.\n"
     ]
    },
    {
     "name": "stdout",
     "output_type": "stream",
     "text": [
      "Requirement already satisfied: setuptools>=41.0.0 in c:\\users\\alexa\\anaconda3\\lib\\site-packages (from -r requirements.txt (line 1)) (50.3.1.post20201107)\n",
      "Requirement already satisfied: pip>=10.0 in c:\\users\\alexa\\anaconda3\\lib\\site-packages (from -r requirements.txt (line 2)) (20.2.4)\n",
      "Requirement already satisfied: numpy>=1.18.5 in c:\\users\\alexa\\anaconda3\\lib\\site-packages (from -r requirements.txt (line 3)) (1.19.2)\n",
      "Requirement already satisfied: scipy==1.4.1 in c:\\users\\alexa\\anaconda3\\lib\\site-packages (from -r requirements.txt (line 4)) (1.4.1)\n",
      "Requirement already satisfied: matplotlib in c:\\users\\alexa\\anaconda3\\lib\\site-packages (from -r requirements.txt (line 5)) (3.3.2)\n",
      "Requirement already satisfied: pandas>=0.24.1 in c:\\users\\alexa\\anaconda3\\lib\\site-packages (from -r requirements.txt (line 6)) (1.1.3)\n",
      "Requirement already satisfied: scikit-learn>=0.22.0 in c:\\users\\alexa\\anaconda3\\lib\\site-packages (from -r requirements.txt (line 7)) (0.23.2)\n",
      "Requirement already satisfied: statsmodels>=0.9.0 in c:\\users\\alexa\\anaconda3\\lib\\site-packages (from -r requirements.txt (line 8)) (0.12.0)\n",
      "Requirement already satisfied: seaborn in c:\\users\\alexa\\anaconda3\\lib\\site-packages (from -r requirements.txt (line 9)) (0.11.0)\n",
      "Requirement already satisfied: Cython>=0.28.0 in c:\\users\\alexa\\anaconda3\\lib\\site-packages (from -r requirements.txt (line 10)) (0.29.23)\n",
      "Requirement already satisfied: xgboost in c:\\users\\alexa\\anaconda3\\lib\\site-packages (from -r requirements.txt (line 11)) (1.5.2)\n",
      "Requirement already satisfied: pydotplus in c:\\users\\alexa\\anaconda3\\lib\\site-packages (from -r requirements.txt (line 12)) (2.0.2)\n",
      "Requirement already satisfied: tqdm in c:\\users\\alexa\\anaconda3\\lib\\site-packages (from -r requirements.txt (line 13)) (4.50.2)\n",
      "Requirement already satisfied: shap<0.38.1 in c:\\users\\alexa\\anaconda3\\lib\\site-packages (from -r requirements.txt (line 14)) (0.37.0)\n",
      "Requirement already satisfied: dill in c:\\users\\alexa\\anaconda3\\lib\\site-packages (from -r requirements.txt (line 15)) (0.3.4)\n",
      "Requirement already satisfied: lightgbm in c:\\users\\alexa\\anaconda3\\lib\\site-packages (from -r requirements.txt (line 16)) (3.1.1)\n",
      "Requirement already satisfied: pygam in c:\\users\\alexa\\anaconda3\\lib\\site-packages (from -r requirements.txt (line 17)) (0.8.0)\n",
      "Requirement already satisfied: packaging in c:\\users\\alexa\\anaconda3\\lib\\site-packages (from -r requirements.txt (line 18)) (20.4)\n",
      "Requirement already satisfied: torch in c:\\users\\alexa\\anaconda3\\lib\\site-packages (from -r requirements.txt (line 19)) (1.10.1)\n",
      "Requirement already satisfied: pyro-ppl in c:\\users\\alexa\\anaconda3\\lib\\site-packages (from -r requirements.txt (line 20)) (1.8.0)\n",
      "Requirement already satisfied: graphviz in c:\\users\\alexa\\anaconda3\\lib\\site-packages (from -r requirements.txt (line 21)) (0.16)\n",
      "Requirement already satisfied: pillow>=6.2.0 in c:\\users\\alexa\\anaconda3\\lib\\site-packages (from matplotlib->-r requirements.txt (line 5)) (8.0.1)\n",
      "Requirement already satisfied: python-dateutil>=2.1 in c:\\users\\alexa\\anaconda3\\lib\\site-packages (from matplotlib->-r requirements.txt (line 5)) (2.8.1)\n",
      "Requirement already satisfied: cycler>=0.10 in c:\\users\\alexa\\anaconda3\\lib\\site-packages (from matplotlib->-r requirements.txt (line 5)) (0.10.0)\n",
      "Requirement already satisfied: pyparsing!=2.0.4,!=2.1.2,!=2.1.6,>=2.0.3 in c:\\users\\alexa\\anaconda3\\lib\\site-packages (from matplotlib->-r requirements.txt (line 5)) (2.4.7)\n",
      "Requirement already satisfied: kiwisolver>=1.0.1 in c:\\users\\alexa\\anaconda3\\lib\\site-packages (from matplotlib->-r requirements.txt (line 5)) (1.3.0)\n",
      "Requirement already satisfied: certifi>=2020.06.20 in c:\\users\\alexa\\anaconda3\\lib\\site-packages (from matplotlib->-r requirements.txt (line 5)) (2020.6.20)\n",
      "Requirement already satisfied: pytz>=2017.2 in c:\\users\\alexa\\anaconda3\\lib\\site-packages (from pandas>=0.24.1->-r requirements.txt (line 6)) (2020.1)\n",
      "Requirement already satisfied: joblib>=0.11 in c:\\users\\alexa\\anaconda3\\lib\\site-packages (from scikit-learn>=0.22.0->-r requirements.txt (line 7)) (0.17.0)\n",
      "Requirement already satisfied: threadpoolctl>=2.0.0 in c:\\users\\alexa\\anaconda3\\lib\\site-packages (from scikit-learn>=0.22.0->-r requirements.txt (line 7)) (2.1.0)\n",
      "Requirement already satisfied: patsy>=0.5 in c:\\users\\alexa\\anaconda3\\lib\\site-packages (from statsmodels>=0.9.0->-r requirements.txt (line 8)) (0.5.1)\n",
      "Requirement already satisfied: numba in c:\\users\\alexa\\anaconda3\\lib\\site-packages (from shap<0.38.1->-r requirements.txt (line 14)) (0.51.2)\n",
      "Requirement already satisfied: slicer==0.0.3 in c:\\users\\alexa\\anaconda3\\lib\\site-packages (from shap<0.38.1->-r requirements.txt (line 14)) (0.0.3)\n",
      "Requirement already satisfied: wheel in c:\\users\\alexa\\anaconda3\\lib\\site-packages (from lightgbm->-r requirements.txt (line 16)) (0.35.1)\n",
      "Requirement already satisfied: progressbar2 in c:\\users\\alexa\\anaconda3\\lib\\site-packages (from pygam->-r requirements.txt (line 17)) (4.0.0)\n",
      "Requirement already satisfied: future in c:\\users\\alexa\\anaconda3\\lib\\site-packages (from pygam->-r requirements.txt (line 17)) (0.18.2)\n",
      "Requirement already satisfied: six in c:\\users\\alexa\\anaconda3\\lib\\site-packages (from packaging->-r requirements.txt (line 18)) (1.15.0)\n",
      "Requirement already satisfied: typing-extensions in c:\\users\\alexa\\anaconda3\\lib\\site-packages (from torch->-r requirements.txt (line 19)) (3.7.4.3)\n",
      "Requirement already satisfied: opt-einsum>=2.3.2 in c:\\users\\alexa\\anaconda3\\lib\\site-packages (from pyro-ppl->-r requirements.txt (line 20)) (3.3.0)\n",
      "Requirement already satisfied: pyro-api>=0.1.1 in c:\\users\\alexa\\anaconda3\\lib\\site-packages (from pyro-ppl->-r requirements.txt (line 20)) (0.1.2)\n",
      "Requirement already satisfied: llvmlite<0.35,>=0.34.0.dev0 in c:\\users\\alexa\\anaconda3\\lib\\site-packages (from numba->shap<0.38.1->-r requirements.txt (line 14)) (0.34.0)\n",
      "Requirement already satisfied: python-utils>=3.0.0 in c:\\users\\alexa\\anaconda3\\lib\\site-packages (from progressbar2->pygam->-r requirements.txt (line 17)) (3.1.0)\n",
      "running build_ext\n",
      "building 'causalml.inference.tree.causaltree' extension\n"
     ]
    },
    {
     "name": "stderr",
     "output_type": "stream",
     "text": [
      "error: Microsoft Visual C++ 14.0 or greater is required. Get it with \"Microsoft C++ Build Tools\": https://visualstudio.microsoft.com/visual-cpp-build-tools/\n"
     ]
    },
    {
     "name": "stdout",
     "output_type": "stream",
     "text": [
      "running install\n",
      "running bdist_egg\n",
      "running egg_info\n",
      "writing causalml.egg-info\\PKG-INFO\n",
      "writing dependency_links to causalml.egg-info\\dependency_links.txt\n",
      "writing requirements to causalml.egg-info\\requires.txt\n",
      "writing top-level names to causalml.egg-info\\top_level.txt\n",
      "reading manifest file 'causalml.egg-info\\SOURCES.txt'\n",
      "reading manifest template 'MANIFEST.in'\n",
      "writing manifest file 'causalml.egg-info\\SOURCES.txt'\n",
      "installing library code to build\\bdist.win-amd64\\egg\n",
      "running install_lib\n",
      "running build_py\n",
      "running build_ext\n",
      "building 'causalml.inference.tree.causaltree' extension\n"
     ]
    },
    {
     "name": "stderr",
     "output_type": "stream",
     "text": [
      "warning: no files found matching '*.pxd' under directory 'causalml'\n",
      "warning: no files found matching '*.h' under directory 'causalml'\n",
      "error: Microsoft Visual C++ 14.0 or greater is required. Get it with \"Microsoft C++ Build Tools\": https://visualstudio.microsoft.com/visual-cpp-build-tools/\n"
     ]
    }
   ],
   "source": [
    "!git clone https://github.com/uber/causalml.git\n",
    "%cd causalml\n",
    "!pip install -r requirements.txt\n",
    "!python setup.py build_ext --inplace\n",
    "!python setup.py install"
   ]
  },
  {
   "cell_type": "code",
   "execution_count": 58,
   "metadata": {},
   "outputs": [
    {
     "ename": "ModuleNotFoundError",
     "evalue": "No module named 'causalml.inference'",
     "output_type": "error",
     "traceback": [
      "\u001b[1;31m---------------------------------------------------------------------------\u001b[0m",
      "\u001b[1;31mModuleNotFoundError\u001b[0m                       Traceback (most recent call last)",
      "\u001b[1;32m<timed exec>\u001b[0m in \u001b[0;36m<module>\u001b[1;34m\u001b[0m\n",
      "\u001b[1;31mModuleNotFoundError\u001b[0m: No module named 'causalml.inference'"
     ]
    }
   ],
   "source": [
    "%%time\n",
    "from IPython.display import Image\n",
    "from causalml.inference.tree import UpliftTreeClassifier, UpliftRandomForestClassifier\n",
    "from causalml.inference.tree import uplift_tree_string, uplift_tree_plot\n",
    "\n",
    "uplift_model = UpliftTreeClassifier(max_depth=8, min_samples_leaf=200, min_samples_treatment=50,\n",
    "                                    n_reg=100, evaluationFunction='KL', control_name='control')\n",
    "\n",
    "uplift_model.fit(X_train_tree.values,\n",
    "                 treatment=treat_train.map({1: 'treatment1', 0: 'control'}).values,\n",
    "                 y=y_train)\n",
    "\n",
    "graph = uplift_tree_plot(uplift_model.fitted_uplift_tree, features)\n",
    "Image(graph.create_png())"
   ]
  }
 ],
 "metadata": {
  "kernelspec": {
   "display_name": "Python 3",
   "language": "python",
   "name": "python3"
  },
  "language_info": {
   "codemirror_mode": {
    "name": "ipython",
    "version": 3
   },
   "file_extension": ".py",
   "mimetype": "text/x-python",
   "name": "python",
   "nbconvert_exporter": "python",
   "pygments_lexer": "ipython3",
   "version": "3.8.5"
  }
 },
 "nbformat": 4,
 "nbformat_minor": 4
}
